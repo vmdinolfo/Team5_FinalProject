{
 "cells": [
  {
   "cell_type": "markdown",
   "metadata": {},
   "source": [
    "# Do you know your stroke risk?\n",
    "\n",
    "Source of the data: https://www.sciencedirect.com/science/article/pii/S0933365719302295?via%3Dihub\n",
    "Liu, Tianyu; Fan, Wenhui; Wu, Cheng (2019), “Data for: A hybrid machine learning approach to cerebral stroke prediction based on imbalanced medical-datasets”, Mendeley Data, V1, doi: 10.17632/x8ygrw87jw.1\n",
    "\n",
    "The medical dataset contains 43,400 records of potential patients which includes 783 occurrences of stroke. \n",
    "\n",
    "Cerebral stroke has become a significant global public health issue. The ideal solution to this concern is to prevent in advance by controlling related metabolic factors. However, it is difficult for medical staff to decide whether special precautions are needed for a potential patient only based on the monitoring of physiological indicators unless they are obviously abnormal. This project builds a machine learning model to predict whether someone is at risk of having a stroke.\n",
    "\n",
    "The data in each row includes numerical factors, such as age and average glucose levels, and categorical factors, such as \"has heart disease\" (yes or no), work type, and smoking status. This is not an exhaustive list. We use this data to determine which factors contribute to having a stroke, and among those which hold the most weight."
   ]
  },
  {
   "cell_type": "markdown",
   "metadata": {},
   "source": [
    "## Basic analysis of the input dataset"
   ]
  },
  {
   "cell_type": "code",
   "execution_count": 1,
   "metadata": {},
   "outputs": [
    {
     "data": {
      "text/plain": [
       "(43400, 12)"
      ]
     },
     "execution_count": 1,
     "metadata": {},
     "output_type": "execute_result"
    }
   ],
   "source": [
    "# Dependencies and Setup\n",
    "import pandas as pd\n",
    "import matplotlib.mlab as mlab\n",
    "import matplotlib.pyplot as plt\n",
    "import numpy as np\n",
    "import scipy.stats as sts\n",
    "#import seaborn as sns\n",
    "%matplotlib inline\n",
    "#sns.set_style('whitegrid')\n",
    "import tensorflow\n",
    "#tensorflow.keras.__version__\n",
    "from tensorflow.keras.models import Sequential\n",
    "from tensorflow.keras.layers import Dense\n",
    "\n",
    "from sklearn.model_selection import train_test_split\n",
    "from sklearn.preprocessing import LabelEncoder, MinMaxScaler\n",
    "from tensorflow.keras.utils import to_categorical\n",
    "\n",
    "# Read the golf course dataset\n",
    "input_csv = pd.read_csv(\"data/stroke_dataset.csv\", delimiter=',', skipinitialspace=True)\n",
    "input_csv.shape"
   ]
  },
  {
   "cell_type": "markdown",
   "metadata": {},
   "source": [
    "### Neural Network Code Below"
   ]
  },
  {
   "cell_type": "code",
   "execution_count": 2,
   "metadata": {},
   "outputs": [],
   "source": [
    "def neural_net(X,y, filename):\n",
    "    dim = X.shape[1]\n",
    "    X_train, X_test, y_train, y_test = train_test_split(X,y, random_state = 50)\n",
    "    print(X_test.shape)\n",
    "    print(y_test.shape)\n",
    "    X_scaler = MinMaxScaler().fit(X_train)\n",
    "    X_train_scaled = X_scaler.transform(X_train)\n",
    "    X_test_scaled = X_scaler.transform(X_test)\n",
    "    # Step 1: Label-encode data set\n",
    "    label_encoder = LabelEncoder()\n",
    "    label_encoder.fit(y_train)\n",
    "    encoded_y_train = label_encoder.transform(y_train)\n",
    "    encoded_y_test = label_encoder.transform(y_test)\n",
    "    # Step 2: Convert encoded labels to one-hot-encoding\n",
    "    y_train_categorical = to_categorical(encoded_y_train)\n",
    "    y_test_categorical = to_categorical(encoded_y_test)\n",
    "    \n",
    "\n",
    "    \n",
    "    # Create model and add layers\n",
    "    model = Sequential()\n",
    "    model.add(Dense(units=55, activation='relu', input_dim=dim))\n",
    "    model.add(Dense(units=55, activation='relu'))\n",
    "    model.add(Dense(units=55, activation='relu'))\n",
    "    model.add(Dense(units=2, activation='softmax'))\n",
    "    \n",
    "    # Compile and fit the model\n",
    "    model.compile(optimizer='adam',\n",
    "                  loss='categorical_crossentropy',\n",
    "                  metrics=['accuracy'])\n",
    "    \n",
    "    model.summary()\n",
    "    model.fit(\n",
    "    X_train_scaled,\n",
    "    y_train_categorical,\n",
    "    epochs=100,\n",
    "    shuffle=True,\n",
    "    verbose=1\n",
    "    )\n",
    "    model_loss, model_accuracy = model.evaluate(\n",
    "        X_test_scaled, y_test_categorical, verbose=2)\n",
    "    \n",
    "    print(\"/n\")\n",
    "    print(\"Test Results\")\n",
    "    print(f\"Normal Neural Network - Loss: {model_loss}, Accuracy: {model_accuracy}\")\n",
    "    \n",
    "    \n",
    "    \n",
    "    uniqueValues_train, occurCount_train = np.unique(y_train, return_counts=True)\n",
    "    uniqueValues_test, occurCount_test = np.unique(y_test, return_counts=True)\n",
    "    print(f\"train unique values {uniqueValues_train}\")\n",
    "    print(f\"train occur count {occurCount_train}\")\n",
    "    \n",
    "    print(f\"test unique values {uniqueValues_test}\")\n",
    "    print(f\"test occur count {occurCount_test}\")\n",
    "   \n",
    "    model.save(filename+\".h5\")\n",
    "    \n",
    "    return "
   ]
  },
  {
   "cell_type": "code",
   "execution_count": 3,
   "metadata": {
    "scrolled": true
   },
   "outputs": [
    {
     "data": {
      "text/html": [
       "<div>\n",
       "<style scoped>\n",
       "    .dataframe tbody tr th:only-of-type {\n",
       "        vertical-align: middle;\n",
       "    }\n",
       "\n",
       "    .dataframe tbody tr th {\n",
       "        vertical-align: top;\n",
       "    }\n",
       "\n",
       "    .dataframe thead th {\n",
       "        text-align: right;\n",
       "    }\n",
       "</style>\n",
       "<table border=\"1\" class=\"dataframe\">\n",
       "  <thead>\n",
       "    <tr style=\"text-align: right;\">\n",
       "      <th></th>\n",
       "      <th>id</th>\n",
       "      <th>gender</th>\n",
       "      <th>age</th>\n",
       "      <th>hypertension</th>\n",
       "      <th>heart_disease</th>\n",
       "      <th>ever_married</th>\n",
       "      <th>work_type</th>\n",
       "      <th>Residence_type</th>\n",
       "      <th>avg_glucose_level</th>\n",
       "      <th>bmi</th>\n",
       "      <th>smoking_status</th>\n",
       "      <th>stroke</th>\n",
       "    </tr>\n",
       "  </thead>\n",
       "  <tbody>\n",
       "    <tr>\n",
       "      <th>0</th>\n",
       "      <td>30669</td>\n",
       "      <td>Male</td>\n",
       "      <td>3.0</td>\n",
       "      <td>0</td>\n",
       "      <td>0</td>\n",
       "      <td>No</td>\n",
       "      <td>children</td>\n",
       "      <td>Rural</td>\n",
       "      <td>95.12</td>\n",
       "      <td>18.0</td>\n",
       "      <td>NaN</td>\n",
       "      <td>0</td>\n",
       "    </tr>\n",
       "    <tr>\n",
       "      <th>1</th>\n",
       "      <td>30468</td>\n",
       "      <td>Male</td>\n",
       "      <td>58.0</td>\n",
       "      <td>1</td>\n",
       "      <td>0</td>\n",
       "      <td>Yes</td>\n",
       "      <td>Private</td>\n",
       "      <td>Urban</td>\n",
       "      <td>87.96</td>\n",
       "      <td>39.2</td>\n",
       "      <td>never smoked</td>\n",
       "      <td>0</td>\n",
       "    </tr>\n",
       "    <tr>\n",
       "      <th>2</th>\n",
       "      <td>16523</td>\n",
       "      <td>Female</td>\n",
       "      <td>8.0</td>\n",
       "      <td>0</td>\n",
       "      <td>0</td>\n",
       "      <td>No</td>\n",
       "      <td>Private</td>\n",
       "      <td>Urban</td>\n",
       "      <td>110.89</td>\n",
       "      <td>17.6</td>\n",
       "      <td>NaN</td>\n",
       "      <td>0</td>\n",
       "    </tr>\n",
       "    <tr>\n",
       "      <th>3</th>\n",
       "      <td>56543</td>\n",
       "      <td>Female</td>\n",
       "      <td>70.0</td>\n",
       "      <td>0</td>\n",
       "      <td>0</td>\n",
       "      <td>Yes</td>\n",
       "      <td>Private</td>\n",
       "      <td>Rural</td>\n",
       "      <td>69.04</td>\n",
       "      <td>35.9</td>\n",
       "      <td>formerly smoked</td>\n",
       "      <td>0</td>\n",
       "    </tr>\n",
       "    <tr>\n",
       "      <th>4</th>\n",
       "      <td>46136</td>\n",
       "      <td>Male</td>\n",
       "      <td>14.0</td>\n",
       "      <td>0</td>\n",
       "      <td>0</td>\n",
       "      <td>No</td>\n",
       "      <td>Never_worked</td>\n",
       "      <td>Rural</td>\n",
       "      <td>161.28</td>\n",
       "      <td>19.1</td>\n",
       "      <td>NaN</td>\n",
       "      <td>0</td>\n",
       "    </tr>\n",
       "    <tr>\n",
       "      <th>...</th>\n",
       "      <td>...</td>\n",
       "      <td>...</td>\n",
       "      <td>...</td>\n",
       "      <td>...</td>\n",
       "      <td>...</td>\n",
       "      <td>...</td>\n",
       "      <td>...</td>\n",
       "      <td>...</td>\n",
       "      <td>...</td>\n",
       "      <td>...</td>\n",
       "      <td>...</td>\n",
       "      <td>...</td>\n",
       "    </tr>\n",
       "    <tr>\n",
       "      <th>43395</th>\n",
       "      <td>56196</td>\n",
       "      <td>Female</td>\n",
       "      <td>10.0</td>\n",
       "      <td>0</td>\n",
       "      <td>0</td>\n",
       "      <td>No</td>\n",
       "      <td>children</td>\n",
       "      <td>Urban</td>\n",
       "      <td>58.64</td>\n",
       "      <td>20.4</td>\n",
       "      <td>never smoked</td>\n",
       "      <td>0</td>\n",
       "    </tr>\n",
       "    <tr>\n",
       "      <th>43396</th>\n",
       "      <td>5450</td>\n",
       "      <td>Female</td>\n",
       "      <td>56.0</td>\n",
       "      <td>0</td>\n",
       "      <td>0</td>\n",
       "      <td>Yes</td>\n",
       "      <td>Govt_job</td>\n",
       "      <td>Urban</td>\n",
       "      <td>213.61</td>\n",
       "      <td>55.4</td>\n",
       "      <td>formerly smoked</td>\n",
       "      <td>0</td>\n",
       "    </tr>\n",
       "    <tr>\n",
       "      <th>43397</th>\n",
       "      <td>28375</td>\n",
       "      <td>Female</td>\n",
       "      <td>82.0</td>\n",
       "      <td>1</td>\n",
       "      <td>0</td>\n",
       "      <td>Yes</td>\n",
       "      <td>Private</td>\n",
       "      <td>Urban</td>\n",
       "      <td>91.94</td>\n",
       "      <td>28.9</td>\n",
       "      <td>formerly smoked</td>\n",
       "      <td>0</td>\n",
       "    </tr>\n",
       "    <tr>\n",
       "      <th>43398</th>\n",
       "      <td>27973</td>\n",
       "      <td>Male</td>\n",
       "      <td>40.0</td>\n",
       "      <td>0</td>\n",
       "      <td>0</td>\n",
       "      <td>Yes</td>\n",
       "      <td>Private</td>\n",
       "      <td>Urban</td>\n",
       "      <td>99.16</td>\n",
       "      <td>33.2</td>\n",
       "      <td>never smoked</td>\n",
       "      <td>0</td>\n",
       "    </tr>\n",
       "    <tr>\n",
       "      <th>43399</th>\n",
       "      <td>36271</td>\n",
       "      <td>Female</td>\n",
       "      <td>82.0</td>\n",
       "      <td>0</td>\n",
       "      <td>0</td>\n",
       "      <td>Yes</td>\n",
       "      <td>Private</td>\n",
       "      <td>Urban</td>\n",
       "      <td>79.48</td>\n",
       "      <td>20.6</td>\n",
       "      <td>never smoked</td>\n",
       "      <td>0</td>\n",
       "    </tr>\n",
       "  </tbody>\n",
       "</table>\n",
       "<p>43400 rows × 12 columns</p>\n",
       "</div>"
      ],
      "text/plain": [
       "          id  gender   age  hypertension  heart_disease ever_married  \\\n",
       "0      30669    Male   3.0             0              0           No   \n",
       "1      30468    Male  58.0             1              0          Yes   \n",
       "2      16523  Female   8.0             0              0           No   \n",
       "3      56543  Female  70.0             0              0          Yes   \n",
       "4      46136    Male  14.0             0              0           No   \n",
       "...      ...     ...   ...           ...            ...          ...   \n",
       "43395  56196  Female  10.0             0              0           No   \n",
       "43396   5450  Female  56.0             0              0          Yes   \n",
       "43397  28375  Female  82.0             1              0          Yes   \n",
       "43398  27973    Male  40.0             0              0          Yes   \n",
       "43399  36271  Female  82.0             0              0          Yes   \n",
       "\n",
       "          work_type Residence_type  avg_glucose_level   bmi   smoking_status  \\\n",
       "0          children          Rural              95.12  18.0              NaN   \n",
       "1           Private          Urban              87.96  39.2     never smoked   \n",
       "2           Private          Urban             110.89  17.6              NaN   \n",
       "3           Private          Rural              69.04  35.9  formerly smoked   \n",
       "4      Never_worked          Rural             161.28  19.1              NaN   \n",
       "...             ...            ...                ...   ...              ...   \n",
       "43395      children          Urban              58.64  20.4     never smoked   \n",
       "43396      Govt_job          Urban             213.61  55.4  formerly smoked   \n",
       "43397       Private          Urban              91.94  28.9  formerly smoked   \n",
       "43398       Private          Urban              99.16  33.2     never smoked   \n",
       "43399       Private          Urban              79.48  20.6     never smoked   \n",
       "\n",
       "       stroke  \n",
       "0           0  \n",
       "1           0  \n",
       "2           0  \n",
       "3           0  \n",
       "4           0  \n",
       "...       ...  \n",
       "43395       0  \n",
       "43396       0  \n",
       "43397       0  \n",
       "43398       0  \n",
       "43399       0  \n",
       "\n",
       "[43400 rows x 12 columns]"
      ]
     },
     "execution_count": 3,
     "metadata": {},
     "output_type": "execute_result"
    }
   ],
   "source": [
    "# Display the input data for preview\n",
    "input_csv"
   ]
  },
  {
   "cell_type": "code",
   "execution_count": 4,
   "metadata": {},
   "outputs": [
    {
     "data": {
      "image/png": "[encoded data removed]",
      "text/plain": [
       "<Figure size 432x288 with 1 Axes>"
      ]
     },
     "metadata": {
      "needs_background": "light"
     },
     "output_type": "display_data"
    }
   ],
   "source": [
    "#plotting histogram of age\n",
    "\n",
    "x = input_csv['age']\n",
    "num_bins = 20\n",
    "# the histogram of the data\n",
    "n, bins, patches = plt.hist(x, num_bins, facecolor='blue', alpha=0.5)\n",
    "plt.ylim([1000, 3000])\n",
    "# add a 'best fit' line\n",
    "#y = mlab.normpdf(bins, mu, sigma)\n",
    "\n",
    "plt.xlabel('Age')\n",
    "plt.ylabel('Probability')\n",
    "plt.title(r'Histogram of Age')\n",
    "\n",
    "# Tweak spacing to prevent clipping of ylabel\n",
    "plt.subplots_adjust(left=0.15)\n",
    "plt.show()"
   ]
  },
  {
   "cell_type": "markdown",
   "metadata": {},
   "source": [
    "### Looking into balanced datasets"
   ]
  },
  {
   "cell_type": "code",
   "execution_count": 5,
   "metadata": {},
   "outputs": [],
   "source": [
    "stroke_data_df = input_csv.copy(deep=True)"
   ]
  },
  {
   "cell_type": "code",
   "execution_count": 6,
   "metadata": {},
   "outputs": [],
   "source": [
    "stroke_data_df = stroke_data_df.dropna()\n"
   ]
  },
  {
   "cell_type": "code",
   "execution_count": 7,
   "metadata": {},
   "outputs": [
    {
     "data": {
      "text/html": [
       "<div>\n",
       "<style scoped>\n",
       "    .dataframe tbody tr th:only-of-type {\n",
       "        vertical-align: middle;\n",
       "    }\n",
       "\n",
       "    .dataframe tbody tr th {\n",
       "        vertical-align: top;\n",
       "    }\n",
       "\n",
       "    .dataframe thead th {\n",
       "        text-align: right;\n",
       "    }\n",
       "</style>\n",
       "<table border=\"1\" class=\"dataframe\">\n",
       "  <thead>\n",
       "    <tr style=\"text-align: right;\">\n",
       "      <th></th>\n",
       "      <th>id</th>\n",
       "      <th>gender</th>\n",
       "      <th>age</th>\n",
       "      <th>hypertension</th>\n",
       "      <th>heart_disease</th>\n",
       "      <th>ever_married</th>\n",
       "      <th>work_type</th>\n",
       "      <th>Residence_type</th>\n",
       "      <th>avg_glucose_level</th>\n",
       "      <th>bmi</th>\n",
       "      <th>smoking_status</th>\n",
       "      <th>stroke</th>\n",
       "    </tr>\n",
       "  </thead>\n",
       "  <tbody>\n",
       "    <tr>\n",
       "      <th>1</th>\n",
       "      <td>30468</td>\n",
       "      <td>Male</td>\n",
       "      <td>58.0</td>\n",
       "      <td>1</td>\n",
       "      <td>0</td>\n",
       "      <td>Yes</td>\n",
       "      <td>Private</td>\n",
       "      <td>Urban</td>\n",
       "      <td>87.96</td>\n",
       "      <td>39.2</td>\n",
       "      <td>never smoked</td>\n",
       "      <td>0</td>\n",
       "    </tr>\n",
       "    <tr>\n",
       "      <th>3</th>\n",
       "      <td>56543</td>\n",
       "      <td>Female</td>\n",
       "      <td>70.0</td>\n",
       "      <td>0</td>\n",
       "      <td>0</td>\n",
       "      <td>Yes</td>\n",
       "      <td>Private</td>\n",
       "      <td>Rural</td>\n",
       "      <td>69.04</td>\n",
       "      <td>35.9</td>\n",
       "      <td>formerly smoked</td>\n",
       "      <td>0</td>\n",
       "    </tr>\n",
       "    <tr>\n",
       "      <th>6</th>\n",
       "      <td>52800</td>\n",
       "      <td>Female</td>\n",
       "      <td>52.0</td>\n",
       "      <td>0</td>\n",
       "      <td>0</td>\n",
       "      <td>Yes</td>\n",
       "      <td>Private</td>\n",
       "      <td>Urban</td>\n",
       "      <td>77.59</td>\n",
       "      <td>17.7</td>\n",
       "      <td>formerly smoked</td>\n",
       "      <td>0</td>\n",
       "    </tr>\n",
       "    <tr>\n",
       "      <th>7</th>\n",
       "      <td>41413</td>\n",
       "      <td>Female</td>\n",
       "      <td>75.0</td>\n",
       "      <td>0</td>\n",
       "      <td>1</td>\n",
       "      <td>Yes</td>\n",
       "      <td>Self-employed</td>\n",
       "      <td>Rural</td>\n",
       "      <td>243.53</td>\n",
       "      <td>27.0</td>\n",
       "      <td>never smoked</td>\n",
       "      <td>0</td>\n",
       "    </tr>\n",
       "    <tr>\n",
       "      <th>8</th>\n",
       "      <td>15266</td>\n",
       "      <td>Female</td>\n",
       "      <td>32.0</td>\n",
       "      <td>0</td>\n",
       "      <td>0</td>\n",
       "      <td>Yes</td>\n",
       "      <td>Private</td>\n",
       "      <td>Rural</td>\n",
       "      <td>77.67</td>\n",
       "      <td>32.3</td>\n",
       "      <td>smokes</td>\n",
       "      <td>0</td>\n",
       "    </tr>\n",
       "  </tbody>\n",
       "</table>\n",
       "</div>"
      ],
      "text/plain": [
       "      id  gender   age  hypertension  heart_disease ever_married  \\\n",
       "1  30468    Male  58.0             1              0          Yes   \n",
       "3  56543  Female  70.0             0              0          Yes   \n",
       "6  52800  Female  52.0             0              0          Yes   \n",
       "7  41413  Female  75.0             0              1          Yes   \n",
       "8  15266  Female  32.0             0              0          Yes   \n",
       "\n",
       "       work_type Residence_type  avg_glucose_level   bmi   smoking_status  \\\n",
       "1        Private          Urban              87.96  39.2     never smoked   \n",
       "3        Private          Rural              69.04  35.9  formerly smoked   \n",
       "6        Private          Urban              77.59  17.7  formerly smoked   \n",
       "7  Self-employed          Rural             243.53  27.0     never smoked   \n",
       "8        Private          Rural              77.67  32.3           smokes   \n",
       "\n",
       "   stroke  \n",
       "1       0  \n",
       "3       0  \n",
       "6       0  \n",
       "7       0  \n",
       "8       0  "
      ]
     },
     "execution_count": 7,
     "metadata": {},
     "output_type": "execute_result"
    }
   ],
   "source": [
    "stroke_data_df.head()"
   ]
  },
  {
   "cell_type": "code",
   "execution_count": 8,
   "metadata": {},
   "outputs": [
    {
     "data": {
      "text/plain": [
       "(29072, 12)"
      ]
     },
     "execution_count": 8,
     "metadata": {},
     "output_type": "execute_result"
    }
   ],
   "source": [
    "stroke_data_df.shape"
   ]
  },
  {
   "cell_type": "markdown",
   "metadata": {},
   "source": [
    "### Isolating Positive Stroke Data"
   ]
  },
  {
   "cell_type": "code",
   "execution_count": 9,
   "metadata": {},
   "outputs": [],
   "source": [
    "stroke_positive = stroke_data_df[stroke_data_df['stroke'] == 1]"
   ]
  },
  {
   "cell_type": "code",
   "execution_count": 10,
   "metadata": {},
   "outputs": [
    {
     "data": {
      "text/html": [
       "<div>\n",
       "<style scoped>\n",
       "    .dataframe tbody tr th:only-of-type {\n",
       "        vertical-align: middle;\n",
       "    }\n",
       "\n",
       "    .dataframe tbody tr th {\n",
       "        vertical-align: top;\n",
       "    }\n",
       "\n",
       "    .dataframe thead th {\n",
       "        text-align: right;\n",
       "    }\n",
       "</style>\n",
       "<table border=\"1\" class=\"dataframe\">\n",
       "  <thead>\n",
       "    <tr style=\"text-align: right;\">\n",
       "      <th></th>\n",
       "      <th>id</th>\n",
       "      <th>gender</th>\n",
       "      <th>age</th>\n",
       "      <th>hypertension</th>\n",
       "      <th>heart_disease</th>\n",
       "      <th>ever_married</th>\n",
       "      <th>work_type</th>\n",
       "      <th>Residence_type</th>\n",
       "      <th>avg_glucose_level</th>\n",
       "      <th>bmi</th>\n",
       "      <th>smoking_status</th>\n",
       "      <th>stroke</th>\n",
       "    </tr>\n",
       "  </thead>\n",
       "  <tbody>\n",
       "    <tr>\n",
       "      <th>63</th>\n",
       "      <td>9046</td>\n",
       "      <td>Male</td>\n",
       "      <td>67.0</td>\n",
       "      <td>0</td>\n",
       "      <td>1</td>\n",
       "      <td>Yes</td>\n",
       "      <td>Private</td>\n",
       "      <td>Urban</td>\n",
       "      <td>228.69</td>\n",
       "      <td>36.6</td>\n",
       "      <td>formerly smoked</td>\n",
       "      <td>1</td>\n",
       "    </tr>\n",
       "    <tr>\n",
       "      <th>141</th>\n",
       "      <td>31112</td>\n",
       "      <td>Male</td>\n",
       "      <td>80.0</td>\n",
       "      <td>0</td>\n",
       "      <td>1</td>\n",
       "      <td>Yes</td>\n",
       "      <td>Private</td>\n",
       "      <td>Rural</td>\n",
       "      <td>105.92</td>\n",
       "      <td>32.5</td>\n",
       "      <td>never smoked</td>\n",
       "      <td>1</td>\n",
       "    </tr>\n",
       "    <tr>\n",
       "      <th>257</th>\n",
       "      <td>60182</td>\n",
       "      <td>Female</td>\n",
       "      <td>49.0</td>\n",
       "      <td>0</td>\n",
       "      <td>0</td>\n",
       "      <td>Yes</td>\n",
       "      <td>Private</td>\n",
       "      <td>Urban</td>\n",
       "      <td>171.23</td>\n",
       "      <td>34.4</td>\n",
       "      <td>smokes</td>\n",
       "      <td>1</td>\n",
       "    </tr>\n",
       "    <tr>\n",
       "      <th>264</th>\n",
       "      <td>1665</td>\n",
       "      <td>Female</td>\n",
       "      <td>79.0</td>\n",
       "      <td>1</td>\n",
       "      <td>0</td>\n",
       "      <td>Yes</td>\n",
       "      <td>Self-employed</td>\n",
       "      <td>Rural</td>\n",
       "      <td>174.12</td>\n",
       "      <td>24.0</td>\n",
       "      <td>never smoked</td>\n",
       "      <td>1</td>\n",
       "    </tr>\n",
       "    <tr>\n",
       "      <th>288</th>\n",
       "      <td>56669</td>\n",
       "      <td>Male</td>\n",
       "      <td>81.0</td>\n",
       "      <td>0</td>\n",
       "      <td>0</td>\n",
       "      <td>Yes</td>\n",
       "      <td>Private</td>\n",
       "      <td>Urban</td>\n",
       "      <td>186.21</td>\n",
       "      <td>29.0</td>\n",
       "      <td>formerly smoked</td>\n",
       "      <td>1</td>\n",
       "    </tr>\n",
       "  </tbody>\n",
       "</table>\n",
       "</div>"
      ],
      "text/plain": [
       "        id  gender   age  hypertension  heart_disease ever_married  \\\n",
       "63    9046    Male  67.0             0              1          Yes   \n",
       "141  31112    Male  80.0             0              1          Yes   \n",
       "257  60182  Female  49.0             0              0          Yes   \n",
       "264   1665  Female  79.0             1              0          Yes   \n",
       "288  56669    Male  81.0             0              0          Yes   \n",
       "\n",
       "         work_type Residence_type  avg_glucose_level   bmi   smoking_status  \\\n",
       "63         Private          Urban             228.69  36.6  formerly smoked   \n",
       "141        Private          Rural             105.92  32.5     never smoked   \n",
       "257        Private          Urban             171.23  34.4           smokes   \n",
       "264  Self-employed          Rural             174.12  24.0     never smoked   \n",
       "288        Private          Urban             186.21  29.0  formerly smoked   \n",
       "\n",
       "     stroke  \n",
       "63        1  \n",
       "141       1  \n",
       "257       1  \n",
       "264       1  \n",
       "288       1  "
      ]
     },
     "execution_count": 10,
     "metadata": {},
     "output_type": "execute_result"
    }
   ],
   "source": [
    "stroke_positive.head()"
   ]
  },
  {
   "cell_type": "code",
   "execution_count": 11,
   "metadata": {},
   "outputs": [
    {
     "data": {
      "text/plain": [
       "(548, 12)"
      ]
     },
     "execution_count": 11,
     "metadata": {},
     "output_type": "execute_result"
    }
   ],
   "source": [
    "stroke_positive.shape"
   ]
  },
  {
   "cell_type": "markdown",
   "metadata": {},
   "source": [
    "## Isolating Negative Stroke Data"
   ]
  },
  {
   "cell_type": "code",
   "execution_count": 12,
   "metadata": {},
   "outputs": [],
   "source": [
    "stroke_negative = stroke_data_df[stroke_data_df['stroke'] == 0]"
   ]
  },
  {
   "cell_type": "code",
   "execution_count": 13,
   "metadata": {},
   "outputs": [
    {
     "data": {
      "text/html": [
       "<div>\n",
       "<style scoped>\n",
       "    .dataframe tbody tr th:only-of-type {\n",
       "        vertical-align: middle;\n",
       "    }\n",
       "\n",
       "    .dataframe tbody tr th {\n",
       "        vertical-align: top;\n",
       "    }\n",
       "\n",
       "    .dataframe thead th {\n",
       "        text-align: right;\n",
       "    }\n",
       "</style>\n",
       "<table border=\"1\" class=\"dataframe\">\n",
       "  <thead>\n",
       "    <tr style=\"text-align: right;\">\n",
       "      <th></th>\n",
       "      <th>id</th>\n",
       "      <th>gender</th>\n",
       "      <th>age</th>\n",
       "      <th>hypertension</th>\n",
       "      <th>heart_disease</th>\n",
       "      <th>ever_married</th>\n",
       "      <th>work_type</th>\n",
       "      <th>Residence_type</th>\n",
       "      <th>avg_glucose_level</th>\n",
       "      <th>bmi</th>\n",
       "      <th>smoking_status</th>\n",
       "      <th>stroke</th>\n",
       "    </tr>\n",
       "  </thead>\n",
       "  <tbody>\n",
       "    <tr>\n",
       "      <th>1</th>\n",
       "      <td>30468</td>\n",
       "      <td>Male</td>\n",
       "      <td>58.0</td>\n",
       "      <td>1</td>\n",
       "      <td>0</td>\n",
       "      <td>Yes</td>\n",
       "      <td>Private</td>\n",
       "      <td>Urban</td>\n",
       "      <td>87.96</td>\n",
       "      <td>39.2</td>\n",
       "      <td>never smoked</td>\n",
       "      <td>0</td>\n",
       "    </tr>\n",
       "    <tr>\n",
       "      <th>3</th>\n",
       "      <td>56543</td>\n",
       "      <td>Female</td>\n",
       "      <td>70.0</td>\n",
       "      <td>0</td>\n",
       "      <td>0</td>\n",
       "      <td>Yes</td>\n",
       "      <td>Private</td>\n",
       "      <td>Rural</td>\n",
       "      <td>69.04</td>\n",
       "      <td>35.9</td>\n",
       "      <td>formerly smoked</td>\n",
       "      <td>0</td>\n",
       "    </tr>\n",
       "    <tr>\n",
       "      <th>6</th>\n",
       "      <td>52800</td>\n",
       "      <td>Female</td>\n",
       "      <td>52.0</td>\n",
       "      <td>0</td>\n",
       "      <td>0</td>\n",
       "      <td>Yes</td>\n",
       "      <td>Private</td>\n",
       "      <td>Urban</td>\n",
       "      <td>77.59</td>\n",
       "      <td>17.7</td>\n",
       "      <td>formerly smoked</td>\n",
       "      <td>0</td>\n",
       "    </tr>\n",
       "    <tr>\n",
       "      <th>7</th>\n",
       "      <td>41413</td>\n",
       "      <td>Female</td>\n",
       "      <td>75.0</td>\n",
       "      <td>0</td>\n",
       "      <td>1</td>\n",
       "      <td>Yes</td>\n",
       "      <td>Self-employed</td>\n",
       "      <td>Rural</td>\n",
       "      <td>243.53</td>\n",
       "      <td>27.0</td>\n",
       "      <td>never smoked</td>\n",
       "      <td>0</td>\n",
       "    </tr>\n",
       "    <tr>\n",
       "      <th>8</th>\n",
       "      <td>15266</td>\n",
       "      <td>Female</td>\n",
       "      <td>32.0</td>\n",
       "      <td>0</td>\n",
       "      <td>0</td>\n",
       "      <td>Yes</td>\n",
       "      <td>Private</td>\n",
       "      <td>Rural</td>\n",
       "      <td>77.67</td>\n",
       "      <td>32.3</td>\n",
       "      <td>smokes</td>\n",
       "      <td>0</td>\n",
       "    </tr>\n",
       "  </tbody>\n",
       "</table>\n",
       "</div>"
      ],
      "text/plain": [
       "      id  gender   age  hypertension  heart_disease ever_married  \\\n",
       "1  30468    Male  58.0             1              0          Yes   \n",
       "3  56543  Female  70.0             0              0          Yes   \n",
       "6  52800  Female  52.0             0              0          Yes   \n",
       "7  41413  Female  75.0             0              1          Yes   \n",
       "8  15266  Female  32.0             0              0          Yes   \n",
       "\n",
       "       work_type Residence_type  avg_glucose_level   bmi   smoking_status  \\\n",
       "1        Private          Urban              87.96  39.2     never smoked   \n",
       "3        Private          Rural              69.04  35.9  formerly smoked   \n",
       "6        Private          Urban              77.59  17.7  formerly smoked   \n",
       "7  Self-employed          Rural             243.53  27.0     never smoked   \n",
       "8        Private          Rural              77.67  32.3           smokes   \n",
       "\n",
       "   stroke  \n",
       "1       0  \n",
       "3       0  \n",
       "6       0  \n",
       "7       0  \n",
       "8       0  "
      ]
     },
     "execution_count": 13,
     "metadata": {},
     "output_type": "execute_result"
    }
   ],
   "source": [
    "stroke_negative.head()"
   ]
  },
  {
   "cell_type": "code",
   "execution_count": 14,
   "metadata": {},
   "outputs": [
    {
     "data": {
      "text/plain": [
       "(28524, 12)"
      ]
     },
     "execution_count": 14,
     "metadata": {},
     "output_type": "execute_result"
    }
   ],
   "source": [
    "stroke_negative.shape"
   ]
  },
  {
   "cell_type": "code",
   "execution_count": 15,
   "metadata": {},
   "outputs": [
    {
     "name": "stdout",
     "output_type": "stream",
     "text": [
      "Total Number of Stroke Positive 548\n",
      "Total Number of Stroke Negative 28524\n"
     ]
    }
   ],
   "source": [
    "print(f\"Total Number of Stroke Positive {len(stroke_positive)}\")\n",
    "print(f\"Total Number of Stroke Negative {len(stroke_negative)}\")"
   ]
  },
  {
   "cell_type": "code",
   "execution_count": null,
   "metadata": {},
   "outputs": [],
   "source": []
  },
  {
   "cell_type": "markdown",
   "metadata": {},
   "source": [
    "## Mapping String Data to Numeric\n",
    "\n"
   ]
  },
  {
   "cell_type": "code",
   "execution_count": null,
   "metadata": {},
   "outputs": [],
   "source": []
  },
  {
   "cell_type": "code",
   "execution_count": 16,
   "metadata": {},
   "outputs": [],
   "source": [
    "Gender = {\"Other\":2,\"Male\":1, \"Female\":0}\n",
    "Married = {\"Yes\":1, \"No\":0}\n",
    "Work_Type = {\"Private\":0, \"Self-employed\":1, \"children\":2, \n",
    "             \"Govt_job\":3,\"Never_worked\":4}\n",
    "Residence = {\"Urban\":0, \"Rural\":1}\n",
    "Smoking = {\"never smoked\":0, \"formerly smoked\":1, \"smokes\":2, \"unknown\":3}"
   ]
  },
  {
   "cell_type": "code",
   "execution_count": 17,
   "metadata": {
    "scrolled": true
   },
   "outputs": [
    {
     "data": {
      "text/plain": [
       "never smoked       15491\n",
       "formerly smoked     6919\n",
       "smokes              6114\n",
       "Name: smoking_status, dtype: int64"
      ]
     },
     "execution_count": 17,
     "metadata": {},
     "output_type": "execute_result"
    }
   ],
   "source": [
    "stroke_negative[\"smoking_status\"].value_counts()"
   ]
  },
  {
   "cell_type": "code",
   "execution_count": 18,
   "metadata": {},
   "outputs": [],
   "source": [
    "stroke_negative = stroke_negative.replace({\"gender\":Gender, \"ever_married\":Married,\n",
    "                                          \"work_type\":Work_Type, \"Residence_type\":Residence,\n",
    "                                          \"smoking_status\":Smoking})"
   ]
  },
  {
   "cell_type": "code",
   "execution_count": 19,
   "metadata": {},
   "outputs": [],
   "source": [
    "stroke_positive = stroke_positive.replace({\"gender\":Gender, \"ever_married\":Married,\n",
    "                                          \"work_type\":Work_Type, \"Residence_type\":Residence,\n",
    "                                          \"smoking_status\":Smoking})"
   ]
  },
  {
   "cell_type": "code",
   "execution_count": 20,
   "metadata": {},
   "outputs": [
    {
     "data": {
      "text/html": [
       "<div>\n",
       "<style scoped>\n",
       "    .dataframe tbody tr th:only-of-type {\n",
       "        vertical-align: middle;\n",
       "    }\n",
       "\n",
       "    .dataframe tbody tr th {\n",
       "        vertical-align: top;\n",
       "    }\n",
       "\n",
       "    .dataframe thead th {\n",
       "        text-align: right;\n",
       "    }\n",
       "</style>\n",
       "<table border=\"1\" class=\"dataframe\">\n",
       "  <thead>\n",
       "    <tr style=\"text-align: right;\">\n",
       "      <th></th>\n",
       "      <th>id</th>\n",
       "      <th>gender</th>\n",
       "      <th>age</th>\n",
       "      <th>hypertension</th>\n",
       "      <th>heart_disease</th>\n",
       "      <th>ever_married</th>\n",
       "      <th>work_type</th>\n",
       "      <th>Residence_type</th>\n",
       "      <th>avg_glucose_level</th>\n",
       "      <th>bmi</th>\n",
       "      <th>smoking_status</th>\n",
       "      <th>stroke</th>\n",
       "    </tr>\n",
       "  </thead>\n",
       "  <tbody>\n",
       "    <tr>\n",
       "      <th>1</th>\n",
       "      <td>30468</td>\n",
       "      <td>1</td>\n",
       "      <td>58.0</td>\n",
       "      <td>1</td>\n",
       "      <td>0</td>\n",
       "      <td>1</td>\n",
       "      <td>0</td>\n",
       "      <td>0</td>\n",
       "      <td>87.96</td>\n",
       "      <td>39.2</td>\n",
       "      <td>0</td>\n",
       "      <td>0</td>\n",
       "    </tr>\n",
       "    <tr>\n",
       "      <th>3</th>\n",
       "      <td>56543</td>\n",
       "      <td>0</td>\n",
       "      <td>70.0</td>\n",
       "      <td>0</td>\n",
       "      <td>0</td>\n",
       "      <td>1</td>\n",
       "      <td>0</td>\n",
       "      <td>1</td>\n",
       "      <td>69.04</td>\n",
       "      <td>35.9</td>\n",
       "      <td>1</td>\n",
       "      <td>0</td>\n",
       "    </tr>\n",
       "    <tr>\n",
       "      <th>6</th>\n",
       "      <td>52800</td>\n",
       "      <td>0</td>\n",
       "      <td>52.0</td>\n",
       "      <td>0</td>\n",
       "      <td>0</td>\n",
       "      <td>1</td>\n",
       "      <td>0</td>\n",
       "      <td>0</td>\n",
       "      <td>77.59</td>\n",
       "      <td>17.7</td>\n",
       "      <td>1</td>\n",
       "      <td>0</td>\n",
       "    </tr>\n",
       "    <tr>\n",
       "      <th>7</th>\n",
       "      <td>41413</td>\n",
       "      <td>0</td>\n",
       "      <td>75.0</td>\n",
       "      <td>0</td>\n",
       "      <td>1</td>\n",
       "      <td>1</td>\n",
       "      <td>1</td>\n",
       "      <td>1</td>\n",
       "      <td>243.53</td>\n",
       "      <td>27.0</td>\n",
       "      <td>0</td>\n",
       "      <td>0</td>\n",
       "    </tr>\n",
       "    <tr>\n",
       "      <th>8</th>\n",
       "      <td>15266</td>\n",
       "      <td>0</td>\n",
       "      <td>32.0</td>\n",
       "      <td>0</td>\n",
       "      <td>0</td>\n",
       "      <td>1</td>\n",
       "      <td>0</td>\n",
       "      <td>1</td>\n",
       "      <td>77.67</td>\n",
       "      <td>32.3</td>\n",
       "      <td>2</td>\n",
       "      <td>0</td>\n",
       "    </tr>\n",
       "  </tbody>\n",
       "</table>\n",
       "</div>"
      ],
      "text/plain": [
       "      id  gender   age  hypertension  heart_disease  ever_married  work_type  \\\n",
       "1  30468       1  58.0             1              0             1          0   \n",
       "3  56543       0  70.0             0              0             1          0   \n",
       "6  52800       0  52.0             0              0             1          0   \n",
       "7  41413       0  75.0             0              1             1          1   \n",
       "8  15266       0  32.0             0              0             1          0   \n",
       "\n",
       "   Residence_type  avg_glucose_level   bmi  smoking_status  stroke  \n",
       "1               0              87.96  39.2               0       0  \n",
       "3               1              69.04  35.9               1       0  \n",
       "6               0              77.59  17.7               1       0  \n",
       "7               1             243.53  27.0               0       0  \n",
       "8               1              77.67  32.3               2       0  "
      ]
     },
     "execution_count": 20,
     "metadata": {},
     "output_type": "execute_result"
    }
   ],
   "source": [
    "stroke_negative.head()"
   ]
  },
  {
   "cell_type": "code",
   "execution_count": 21,
   "metadata": {},
   "outputs": [
    {
     "data": {
      "text/plain": [
       "1    21199\n",
       "0     7325\n",
       "Name: ever_married, dtype: int64"
      ]
     },
     "execution_count": 21,
     "metadata": {},
     "output_type": "execute_result"
    }
   ],
   "source": [
    "stroke_negative[\"ever_married\"].value_counts()"
   ]
  },
  {
   "cell_type": "code",
   "execution_count": 22,
   "metadata": {},
   "outputs": [
    {
     "data": {
      "text/plain": [
       "id                     int64\n",
       "gender                 int64\n",
       "age                  float64\n",
       "hypertension           int64\n",
       "heart_disease          int64\n",
       "ever_married           int64\n",
       "work_type              int64\n",
       "Residence_type         int64\n",
       "avg_glucose_level    float64\n",
       "bmi                  float64\n",
       "smoking_status         int64\n",
       "stroke                 int64\n",
       "dtype: object"
      ]
     },
     "execution_count": 22,
     "metadata": {},
     "output_type": "execute_result"
    }
   ],
   "source": [
    "stroke_negative.dtypes"
   ]
  },
  {
   "cell_type": "markdown",
   "metadata": {},
   "source": [
    "## Creating various Datasets"
   ]
  },
  {
   "cell_type": "markdown",
   "metadata": {},
   "source": [
    "### Creating Data Set for Analysis - Equal set"
   ]
  },
  {
   "cell_type": "code",
   "execution_count": 84,
   "metadata": {},
   "outputs": [],
   "source": [
    "stroke_negative_sample = stroke_negative.sample(1096)\n",
    "stroke_positive_sample = stroke_positive.sample(548)"
   ]
  },
  {
   "cell_type": "code",
   "execution_count": 85,
   "metadata": {},
   "outputs": [],
   "source": [
    "stroke_sample = pd.merge(stroke_negative_sample, stroke_positive_sample, how = 'outer')"
   ]
  },
  {
   "cell_type": "code",
   "execution_count": 86,
   "metadata": {},
   "outputs": [
    {
     "name": "stdout",
     "output_type": "stream",
     "text": [
      "Negative data set 1096\n",
      "Positive data set 548\n",
      "Combined data set 1644\n",
      "Shape of combined (1644, 12)\n"
     ]
    }
   ],
   "source": [
    "print(f\"Negative data set {len(stroke_negative_sample)}\")\n",
    "print(f\"Positive data set {len(stroke_positive_sample)}\")\n",
    "print(f\"Combined data set {len(stroke_sample)}\")\n",
    "print(f\"Shape of combined {stroke_sample.shape}\")"
   ]
  },
  {
   "cell_type": "code",
   "execution_count": 87,
   "metadata": {},
   "outputs": [
    {
     "name": "stdout",
     "output_type": "stream",
     "text": [
      "(1644, 11) (1644,)\n"
     ]
    }
   ],
   "source": [
    "X = stroke_sample.drop(\"stroke\", axis = 1)\n",
    "y = stroke_sample[\"stroke\"]\n",
    "print(X.shape, y.shape)"
   ]
  },
  {
   "cell_type": "code",
   "execution_count": 88,
   "metadata": {},
   "outputs": [
    {
     "name": "stdout",
     "output_type": "stream",
     "text": [
      "(411, 11)\n",
      "(411,)\n",
      "Model: \"sequential_5\"\n",
      "_________________________________________________________________\n",
      "Layer (type)                 Output Shape              Param #   \n",
      "=================================================================\n",
      "dense_20 (Dense)             (None, 55)                660       \n",
      "_________________________________________________________________\n",
      "dense_21 (Dense)             (None, 55)                3080      \n",
      "_________________________________________________________________\n",
      "dense_22 (Dense)             (None, 55)                3080      \n",
      "_________________________________________________________________\n",
      "dense_23 (Dense)             (None, 2)                 112       \n",
      "=================================================================\n",
      "Total params: 6,932\n",
      "Trainable params: 6,932\n",
      "Non-trainable params: 0\n",
      "_________________________________________________________________\n",
      "Train on 1233 samples\n",
      "Epoch 1/100\n",
      "1233/1233 [==============================] - 1s 979us/sample - loss: 0.6576 - accuracy: 0.6577\n",
      "Epoch 2/100\n",
      "1233/1233 [==============================] - 0s 88us/sample - loss: 0.5870 - accuracy: 0.6772\n",
      "Epoch 3/100\n",
      "1233/1233 [==============================] - 0s 86us/sample - loss: 0.5132 - accuracy: 0.7388\n",
      "Epoch 4/100\n",
      "1233/1233 [==============================] - 0s 98us/sample - loss: 0.4839 - accuracy: 0.7616\n",
      "Epoch 5/100\n",
      "1233/1233 [==============================] - 0s 110us/sample - loss: 0.4651 - accuracy: 0.7648\n",
      "Epoch 6/100\n",
      "1233/1233 [==============================] - 0s 102us/sample - loss: 0.4576 - accuracy: 0.7745\n",
      "Epoch 7/100\n",
      "1233/1233 [==============================] - 0s 108us/sample - loss: 0.4551 - accuracy: 0.7737\n",
      "Epoch 8/100\n",
      "1233/1233 [==============================] - 0s 108us/sample - loss: 0.4572 - accuracy: 0.7770\n",
      "Epoch 9/100\n",
      "1233/1233 [==============================] - 0s 111us/sample - loss: 0.4643 - accuracy: 0.7640\n",
      "Epoch 10/100\n",
      "1233/1233 [==============================] - 0s 111us/sample - loss: 0.4468 - accuracy: 0.7859\n",
      "Epoch 11/100\n",
      "1233/1233 [==============================] - 0s 109us/sample - loss: 0.4410 - accuracy: 0.7924\n",
      "Epoch 12/100\n",
      "1233/1233 [==============================] - 0s 123us/sample - loss: 0.4379 - accuracy: 0.7818\n",
      "Epoch 13/100\n",
      "1233/1233 [==============================] - 0s 116us/sample - loss: 0.4348 - accuracy: 0.7924\n",
      "Epoch 14/100\n",
      "1233/1233 [==============================] - 0s 109us/sample - loss: 0.4326 - accuracy: 0.7924\n",
      "Epoch 15/100\n",
      "1233/1233 [==============================] - 0s 112us/sample - loss: 0.4273 - accuracy: 0.7835\n",
      "Epoch 16/100\n",
      "1233/1233 [==============================] - 0s 113us/sample - loss: 0.4267 - accuracy: 0.7964\n",
      "Epoch 17/100\n",
      "1233/1233 [==============================] - 0s 117us/sample - loss: 0.4281 - accuracy: 0.7932\n",
      "Epoch 18/100\n",
      "1233/1233 [==============================] - 0s 109us/sample - loss: 0.4224 - accuracy: 0.7883\n",
      "Epoch 19/100\n",
      "1233/1233 [==============================] - 0s 109us/sample - loss: 0.4229 - accuracy: 0.8013\n",
      "Epoch 20/100\n",
      "1233/1233 [==============================] - 0s 113us/sample - loss: 0.4150 - accuracy: 0.7964\n",
      "Epoch 21/100\n",
      "1233/1233 [==============================] - 0s 111us/sample - loss: 0.4169 - accuracy: 0.7940\n",
      "Epoch 22/100\n",
      "1233/1233 [==============================] - 0s 111us/sample - loss: 0.4136 - accuracy: 0.7932\n",
      "Epoch 23/100\n",
      "1233/1233 [==============================] - 0s 110us/sample - loss: 0.4149 - accuracy: 0.7924\n",
      "Epoch 24/100\n",
      "1233/1233 [==============================] - 0s 111us/sample - loss: 0.4067 - accuracy: 0.8037\n",
      "Epoch 25/100\n",
      "1233/1233 [==============================] - 0s 109us/sample - loss: 0.4034 - accuracy: 0.7956\n",
      "Epoch 26/100\n",
      "1233/1233 [==============================] - 0s 113us/sample - loss: 0.3981 - accuracy: 0.8086\n",
      "Epoch 27/100\n",
      "1233/1233 [==============================] - 0s 112us/sample - loss: 0.4015 - accuracy: 0.8062\n",
      "Epoch 28/100\n",
      "1233/1233 [==============================] - 0s 126us/sample - loss: 0.3992 - accuracy: 0.8102\n",
      "Epoch 29/100\n",
      "1233/1233 [==============================] - 0s 106us/sample - loss: 0.4005 - accuracy: 0.8054\n",
      "Epoch 30/100\n",
      "1233/1233 [==============================] - 0s 116us/sample - loss: 0.3929 - accuracy: 0.8110\n",
      "Epoch 31/100\n",
      "1233/1233 [==============================] - 0s 124us/sample - loss: 0.3929 - accuracy: 0.8021\n",
      "Epoch 32/100\n",
      "1233/1233 [==============================] - 0s 112us/sample - loss: 0.3823 - accuracy: 0.8175\n",
      "Epoch 33/100\n",
      "1233/1233 [==============================] - 0s 117us/sample - loss: 0.3899 - accuracy: 0.8110\n",
      "Epoch 34/100\n",
      "1233/1233 [==============================] - 0s 108us/sample - loss: 0.3785 - accuracy: 0.8110\n",
      "Epoch 35/100\n",
      "1233/1233 [==============================] - 0s 126us/sample - loss: 0.3850 - accuracy: 0.8013 - loss: 0.3661 - accuracy: 0.\n",
      "Epoch 36/100\n",
      "1233/1233 [==============================] - 0s 73us/sample - loss: 0.3763 - accuracy: 0.8175\n",
      "Epoch 37/100\n",
      "1233/1233 [==============================] - 0s 98us/sample - loss: 0.3768 - accuracy: 0.8110\n",
      "Epoch 38/100\n",
      "1233/1233 [==============================] - 0s 110us/sample - loss: 0.3696 - accuracy: 0.8248\n",
      "Epoch 39/100\n",
      "1233/1233 [==============================] - 0s 108us/sample - loss: 0.3685 - accuracy: 0.8151\n",
      "Epoch 40/100\n",
      "1233/1233 [==============================] - 0s 111us/sample - loss: 0.3623 - accuracy: 0.8224\n",
      "Epoch 41/100\n",
      "1233/1233 [==============================] - 0s 110us/sample - loss: 0.3682 - accuracy: 0.8240\n",
      "Epoch 42/100\n",
      "1233/1233 [==============================] - 0s 117us/sample - loss: 0.3738 - accuracy: 0.8151\n",
      "Epoch 43/100\n",
      "1233/1233 [==============================] - 0s 105us/sample - loss: 0.3657 - accuracy: 0.8175\n",
      "Epoch 44/100\n",
      "1233/1233 [==============================] - 0s 110us/sample - loss: 0.3541 - accuracy: 0.8256\n",
      "Epoch 45/100\n",
      "1233/1233 [==============================] - 0s 114us/sample - loss: 0.3618 - accuracy: 0.8289\n",
      "Epoch 46/100\n",
      "1233/1233 [==============================] - 0s 112us/sample - loss: 0.3595 - accuracy: 0.8216\n",
      "Epoch 47/100\n",
      "1233/1233 [==============================] - 0s 112us/sample - loss: 0.3518 - accuracy: 0.8240\n",
      "Epoch 48/100\n",
      "1233/1233 [==============================] - 0s 108us/sample - loss: 0.3481 - accuracy: 0.8289\n",
      "Epoch 49/100\n",
      "1233/1233 [==============================] - 0s 115us/sample - loss: 0.3600 - accuracy: 0.8216\n",
      "Epoch 50/100\n",
      "1233/1233 [==============================] - 0s 111us/sample - loss: 0.3400 - accuracy: 0.8418\n",
      "Epoch 51/100\n",
      "1233/1233 [==============================] - 0s 110us/sample - loss: 0.3382 - accuracy: 0.8435\n",
      "Epoch 52/100\n",
      "1233/1233 [==============================] - 0s 112us/sample - loss: 0.3343 - accuracy: 0.8418\n",
      "Epoch 53/100\n",
      "1233/1233 [==============================] - 0s 115us/sample - loss: 0.3360 - accuracy: 0.8435\n",
      "Epoch 54/100\n",
      "1233/1233 [==============================] - 0s 112us/sample - loss: 0.3313 - accuracy: 0.8435\n",
      "Epoch 55/100\n",
      "1233/1233 [==============================] - 0s 105us/sample - loss: 0.3304 - accuracy: 0.8345\n",
      "Epoch 56/100\n",
      "1233/1233 [==============================] - 0s 113us/sample - loss: 0.3294 - accuracy: 0.8435\n",
      "Epoch 57/100\n",
      "1233/1233 [==============================] - 0s 117us/sample - loss: 0.3157 - accuracy: 0.8491\n",
      "Epoch 58/100\n",
      "1233/1233 [==============================] - 0s 110us/sample - loss: 0.3245 - accuracy: 0.8418\n",
      "Epoch 59/100\n",
      "1233/1233 [==============================] - 0s 108us/sample - loss: 0.3192 - accuracy: 0.8386\n",
      "Epoch 60/100\n",
      "1233/1233 [==============================] - 0s 107us/sample - loss: 0.3309 - accuracy: 0.8345\n",
      "Epoch 61/100\n",
      "1233/1233 [==============================] - 0s 116us/sample - loss: 0.3123 - accuracy: 0.8532\n",
      "Epoch 62/100\n",
      "1233/1233 [==============================] - 0s 115us/sample - loss: 0.3107 - accuracy: 0.8443\n",
      "Epoch 63/100\n",
      "1233/1233 [==============================] - 0s 108us/sample - loss: 0.3270 - accuracy: 0.8370\n",
      "Epoch 64/100\n",
      "1233/1233 [==============================] - 0s 110us/sample - loss: 0.3108 - accuracy: 0.8475\n",
      "Epoch 65/100\n",
      "1233/1233 [==============================] - 0s 109us/sample - loss: 0.2981 - accuracy: 0.8573\n",
      "Epoch 66/100\n",
      "1233/1233 [==============================] - 0s 108us/sample - loss: 0.2937 - accuracy: 0.8597\n",
      "Epoch 67/100\n",
      "1233/1233 [==============================] - 0s 114us/sample - loss: 0.2935 - accuracy: 0.8564\n",
      "Epoch 68/100\n"
     ]
    },
    {
     "name": "stdout",
     "output_type": "stream",
     "text": [
      "1233/1233 [==============================] - 0s 115us/sample - loss: 0.2915 - accuracy: 0.8581\n",
      "Epoch 69/100\n",
      "1233/1233 [==============================] - 0s 101us/sample - loss: 0.2932 - accuracy: 0.8556\n",
      "Epoch 70/100\n",
      "1233/1233 [==============================] - 0s 110us/sample - loss: 0.2864 - accuracy: 0.8727\n",
      "Epoch 71/100\n",
      "1233/1233 [==============================] - 0s 105us/sample - loss: 0.2857 - accuracy: 0.8637\n",
      "Epoch 72/100\n",
      "1233/1233 [==============================] - 0s 119us/sample - loss: 0.2821 - accuracy: 0.8564\n",
      "Epoch 73/100\n",
      "1233/1233 [==============================] - 0s 109us/sample - loss: 0.2770 - accuracy: 0.8678\n",
      "Epoch 74/100\n",
      "1233/1233 [==============================] - 0s 122us/sample - loss: 0.2808 - accuracy: 0.8662\n",
      "Epoch 75/100\n",
      "1233/1233 [==============================] - 0s 122us/sample - loss: 0.2759 - accuracy: 0.8686\n",
      "Epoch 76/100\n",
      "1233/1233 [==============================] - 0s 108us/sample - loss: 0.2722 - accuracy: 0.8710\n",
      "Epoch 77/100\n",
      "1233/1233 [==============================] - 0s 109us/sample - loss: 0.2814 - accuracy: 0.8654\n",
      "Epoch 78/100\n",
      "1233/1233 [==============================] - 0s 108us/sample - loss: 0.2795 - accuracy: 0.8719\n",
      "Epoch 79/100\n",
      "1233/1233 [==============================] - 0s 112us/sample - loss: 0.2658 - accuracy: 0.8743\n",
      "Epoch 80/100\n",
      "1233/1233 [==============================] - 0s 115us/sample - loss: 0.2712 - accuracy: 0.8767\n",
      "Epoch 81/100\n",
      "1233/1233 [==============================] - 0s 104us/sample - loss: 0.2817 - accuracy: 0.8605\n",
      "Epoch 82/100\n",
      "1233/1233 [==============================] - 0s 109us/sample - loss: 0.2704 - accuracy: 0.8783\n",
      "Epoch 83/100\n",
      "1233/1233 [==============================] - 0s 115us/sample - loss: 0.2569 - accuracy: 0.8856\n",
      "Epoch 84/100\n",
      "1233/1233 [==============================] - 0s 108us/sample - loss: 0.2536 - accuracy: 0.8816\n",
      "Epoch 85/100\n",
      "1233/1233 [==============================] - 0s 107us/sample - loss: 0.2631 - accuracy: 0.8792\n",
      "Epoch 86/100\n",
      "1233/1233 [==============================] - 0s 112us/sample - loss: 0.2485 - accuracy: 0.8824\n",
      "Epoch 87/100\n",
      "1233/1233 [==============================] - 0s 106us/sample - loss: 0.2431 - accuracy: 0.8913\n",
      "Epoch 88/100\n",
      "1233/1233 [==============================] - 0s 116us/sample - loss: 0.2607 - accuracy: 0.8783\n",
      "Epoch 89/100\n",
      "1233/1233 [==============================] - 0s 112us/sample - loss: 0.2517 - accuracy: 0.8921\n",
      "Epoch 90/100\n",
      "1233/1233 [==============================] - 0s 108us/sample - loss: 0.2460 - accuracy: 0.8946\n",
      "Epoch 91/100\n",
      "1233/1233 [==============================] - 0s 116us/sample - loss: 0.2483 - accuracy: 0.8865\n",
      "Epoch 92/100\n",
      "1233/1233 [==============================] - 0s 109us/sample - loss: 0.2539 - accuracy: 0.8800\n",
      "Epoch 93/100\n",
      "1233/1233 [==============================] - 0s 106us/sample - loss: 0.2367 - accuracy: 0.8938\n",
      "Epoch 94/100\n",
      "1233/1233 [==============================] - 0s 110us/sample - loss: 0.2339 - accuracy: 0.8962\n",
      "Epoch 95/100\n",
      "1233/1233 [==============================] - 0s 108us/sample - loss: 0.2320 - accuracy: 0.8970\n",
      "Epoch 96/100\n",
      "1233/1233 [==============================] - 0s 117us/sample - loss: 0.2404 - accuracy: 0.8873\n",
      "Epoch 97/100\n",
      "1233/1233 [==============================] - 0s 112us/sample - loss: 0.2302 - accuracy: 0.9027\n",
      "Epoch 98/100\n",
      "1233/1233 [==============================] - 0s 105us/sample - loss: 0.2293 - accuracy: 0.9002\n",
      "Epoch 99/100\n",
      "1233/1233 [==============================] - 0s 116us/sample - loss: 0.2242 - accuracy: 0.8970\n",
      "Epoch 100/100\n",
      "1233/1233 [==============================] - 0s 106us/sample - loss: 0.2182 - accuracy: 0.9100\n",
      "411/411 - 0s - loss: 1.0751 - accuracy: 0.7153\n",
      "/n\n",
      "Test Results\n",
      "Normal Neural Network - Loss: 1.0751340656094888, Accuracy: 0.7153284549713135\n",
      "train unique values [0 1]\n",
      "train occur count [822 411]\n",
      "test unique values [0 1]\n",
      "test occur count [274 137]\n"
     ]
    }
   ],
   "source": [
    "neural_net(X,y, \"NN_3\")"
   ]
  },
  {
   "cell_type": "markdown",
   "metadata": {},
   "source": [
    "## Loading a model to test performance"
   ]
  },
  {
   "cell_type": "code",
   "execution_count": 89,
   "metadata": {},
   "outputs": [],
   "source": [
    "# Load the model\n",
    "\n",
    "from tensorflow.keras.models import load_model\n",
    "filename = \"NN_3\"\n",
    "stroke_model = load_model(filename+\".h5\")"
   ]
  },
  {
   "cell_type": "code",
   "execution_count": 90,
   "metadata": {},
   "outputs": [],
   "source": [
    "stroke_negative_sample = stroke_negative.sample(20000)\n",
    "stroke_positive_sample = stroke_positive.sample(548)\n",
    "stroke_sample = pd.merge(stroke_negative_sample, stroke_positive_sample, how = 'outer')"
   ]
  },
  {
   "cell_type": "code",
   "execution_count": 91,
   "metadata": {},
   "outputs": [
    {
     "name": "stdout",
     "output_type": "stream",
     "text": [
      "(20548, 11) (20548,)\n"
     ]
    }
   ],
   "source": [
    "X = stroke_sample.drop(\"stroke\", axis = 1)\n",
    "y = stroke_sample[\"stroke\"]\n",
    "print(X.shape, y.shape)"
   ]
  },
  {
   "cell_type": "code",
   "execution_count": 92,
   "metadata": {},
   "outputs": [],
   "source": [
    "X_scaler = MinMaxScaler().fit(X)\n",
    "X_scaled = X_scaler.transform(X)"
   ]
  },
  {
   "cell_type": "code",
   "execution_count": 93,
   "metadata": {},
   "outputs": [],
   "source": [
    "label_encoder = LabelEncoder()\n",
    "label_encoder.fit(y)\n",
    "encoded_y = label_encoder.transform(y)\n",
    "y_categorical = to_categorical(encoded_y)\n"
   ]
  },
  {
   "cell_type": "code",
   "execution_count": 94,
   "metadata": {},
   "outputs": [],
   "source": [
    "encoded_predictions = stroke_model.predict_classes(X_scaled)"
   ]
  },
  {
   "cell_type": "code",
   "execution_count": 95,
   "metadata": {},
   "outputs": [
    {
     "data": {
      "text/plain": [
       "0"
      ]
     },
     "execution_count": 95,
     "metadata": {},
     "output_type": "execute_result"
    }
   ],
   "source": [
    "encoded_predictions[1499]"
   ]
  },
  {
   "cell_type": "code",
   "execution_count": 96,
   "metadata": {},
   "outputs": [
    {
     "data": {
      "text/plain": [
       "0"
      ]
     },
     "execution_count": 96,
     "metadata": {},
     "output_type": "execute_result"
    }
   ],
   "source": [
    "encoded_y[0]"
   ]
  },
  {
   "cell_type": "code",
   "execution_count": 97,
   "metadata": {},
   "outputs": [
    {
     "name": "stdout",
     "output_type": "stream",
     "text": [
      "Total samples: 20548\n",
      "True Positive: 416\n",
      "True Negative: 15924\n",
      "False Positive: 4076\n",
      "False Negative: 132\n"
     ]
    }
   ],
   "source": [
    "TN = 0\n",
    "TP = 0\n",
    "FN = 0\n",
    "FP = 0\n",
    "for i in range(0,len(encoded_y)):\n",
    "    if encoded_predictions[i] == 0:\n",
    "        if encoded_y[i] == 0:\n",
    "            TN += 1\n",
    "        else:\n",
    "            FN += 1\n",
    "    if encoded_predictions[i] == 1:\n",
    "        if encoded_y[i] == 1:\n",
    "            TP += 1\n",
    "        else: \n",
    "            FP += 1\n",
    "total = FP+FN+TN+TP\n",
    "print(f\"Total samples: {total}\")\n",
    "print(f\"True Positive: {TP}\")\n",
    "print(f\"True Negative: {TN}\")\n",
    "print(f\"False Positive: {FP}\")\n",
    "print(f\"False Negative: {FN}\")"
   ]
  },
  {
   "cell_type": "code",
   "execution_count": null,
   "metadata": {},
   "outputs": [],
   "source": []
  }
 ],
 "metadata": {
  "kernelspec": {
   "display_name": "Python 3",
   "language": "python",
   "name": "python3"
  },
  "language_info": {
   "codemirror_mode": {
    "name": "ipython",
    "version": 3
   },
   "file_extension": ".py",
   "mimetype": "text/x-python",
   "name": "python",
   "nbconvert_exporter": "python",
   "pygments_lexer": "ipython3",
   "version": "3.6.12"
  }
 },
 "nbformat": 4,
 "nbformat_minor": 4
}
