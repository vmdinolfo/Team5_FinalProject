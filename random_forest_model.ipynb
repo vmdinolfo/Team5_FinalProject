{
 "cells": [
  {
   "cell_type": "markdown",
   "metadata": {},
   "source": [
    "# Random Forest Model"
   ]
  },
  {
   "cell_type": "code",
   "execution_count": 1,
   "metadata": {},
   "outputs": [],
   "source": [
    "# import required libraries\n",
    "from sklearn.ensemble import RandomForestClassifier\n",
    "import pandas as pd\n",
    "import os\n",
    "import imblearn\n",
    "from imblearn.over_sampling import SMOTE\n",
    "import joblib"
   ]
  },
  {
   "cell_type": "code",
   "execution_count": 2,
   "metadata": {},
   "outputs": [
    {
     "data": {
      "text/html": [
       "<div>\n",
       "<style scoped>\n",
       "    .dataframe tbody tr th:only-of-type {\n",
       "        vertical-align: middle;\n",
       "    }\n",
       "\n",
       "    .dataframe tbody tr th {\n",
       "        vertical-align: top;\n",
       "    }\n",
       "\n",
       "    .dataframe thead th {\n",
       "        text-align: right;\n",
       "    }\n",
       "</style>\n",
       "<table border=\"1\" class=\"dataframe\">\n",
       "  <thead>\n",
       "    <tr style=\"text-align: right;\">\n",
       "      <th></th>\n",
       "      <th>id</th>\n",
       "      <th>gender</th>\n",
       "      <th>age</th>\n",
       "      <th>hypertension</th>\n",
       "      <th>heart_disease</th>\n",
       "      <th>ever_married</th>\n",
       "      <th>work_type</th>\n",
       "      <th>Residence_type</th>\n",
       "      <th>avg_glucose_level</th>\n",
       "      <th>bmi</th>\n",
       "      <th>smoking_status</th>\n",
       "      <th>stroke</th>\n",
       "    </tr>\n",
       "  </thead>\n",
       "  <tbody>\n",
       "    <tr>\n",
       "      <th>0</th>\n",
       "      <td>9046</td>\n",
       "      <td>1</td>\n",
       "      <td>67.0</td>\n",
       "      <td>0</td>\n",
       "      <td>1</td>\n",
       "      <td>1</td>\n",
       "      <td>0</td>\n",
       "      <td>0</td>\n",
       "      <td>228.69</td>\n",
       "      <td>36.6</td>\n",
       "      <td>1</td>\n",
       "      <td>1</td>\n",
       "    </tr>\n",
       "    <tr>\n",
       "      <th>1</th>\n",
       "      <td>31112</td>\n",
       "      <td>1</td>\n",
       "      <td>80.0</td>\n",
       "      <td>0</td>\n",
       "      <td>1</td>\n",
       "      <td>1</td>\n",
       "      <td>0</td>\n",
       "      <td>1</td>\n",
       "      <td>105.92</td>\n",
       "      <td>32.5</td>\n",
       "      <td>0</td>\n",
       "      <td>1</td>\n",
       "    </tr>\n",
       "    <tr>\n",
       "      <th>2</th>\n",
       "      <td>60182</td>\n",
       "      <td>0</td>\n",
       "      <td>49.0</td>\n",
       "      <td>0</td>\n",
       "      <td>0</td>\n",
       "      <td>1</td>\n",
       "      <td>0</td>\n",
       "      <td>0</td>\n",
       "      <td>171.23</td>\n",
       "      <td>34.4</td>\n",
       "      <td>2</td>\n",
       "      <td>1</td>\n",
       "    </tr>\n",
       "    <tr>\n",
       "      <th>3</th>\n",
       "      <td>1665</td>\n",
       "      <td>0</td>\n",
       "      <td>79.0</td>\n",
       "      <td>1</td>\n",
       "      <td>0</td>\n",
       "      <td>1</td>\n",
       "      <td>1</td>\n",
       "      <td>1</td>\n",
       "      <td>174.12</td>\n",
       "      <td>24.0</td>\n",
       "      <td>0</td>\n",
       "      <td>1</td>\n",
       "    </tr>\n",
       "    <tr>\n",
       "      <th>4</th>\n",
       "      <td>56669</td>\n",
       "      <td>1</td>\n",
       "      <td>81.0</td>\n",
       "      <td>0</td>\n",
       "      <td>0</td>\n",
       "      <td>1</td>\n",
       "      <td>0</td>\n",
       "      <td>0</td>\n",
       "      <td>186.21</td>\n",
       "      <td>29.0</td>\n",
       "      <td>1</td>\n",
       "      <td>1</td>\n",
       "    </tr>\n",
       "  </tbody>\n",
       "</table>\n",
       "</div>"
      ],
      "text/plain": [
       "      id  gender   age  hypertension  heart_disease  ever_married  work_type  \\\n",
       "0   9046       1  67.0             0              1             1          0   \n",
       "1  31112       1  80.0             0              1             1          0   \n",
       "2  60182       0  49.0             0              0             1          0   \n",
       "3   1665       0  79.0             1              0             1          1   \n",
       "4  56669       1  81.0             0              0             1          0   \n",
       "\n",
       "   Residence_type  avg_glucose_level   bmi  smoking_status  stroke  \n",
       "0               0             228.69  36.6               1       1  \n",
       "1               1             105.92  32.5               0       1  \n",
       "2               0             171.23  34.4               2       1  \n",
       "3               1             174.12  24.0               0       1  \n",
       "4               0             186.21  29.0               1       1  "
      ]
     },
     "execution_count": 2,
     "metadata": {},
     "output_type": "execute_result"
    }
   ],
   "source": [
    "# load stroke positive data subset\n",
    "stroke_subset = pd.read_csv(\"data/combined_subsets.csv\")\n",
    "stroke_subset.head()"
   ]
  },
  {
   "cell_type": "code",
   "execution_count": 17,
   "metadata": {},
   "outputs": [
    {
     "data": {
      "text/html": [
       "<div>\n",
       "<style scoped>\n",
       "    .dataframe tbody tr th:only-of-type {\n",
       "        vertical-align: middle;\n",
       "    }\n",
       "\n",
       "    .dataframe tbody tr th {\n",
       "        vertical-align: top;\n",
       "    }\n",
       "\n",
       "    .dataframe thead th {\n",
       "        text-align: right;\n",
       "    }\n",
       "</style>\n",
       "<table border=\"1\" class=\"dataframe\">\n",
       "  <thead>\n",
       "    <tr style=\"text-align: right;\">\n",
       "      <th></th>\n",
       "      <th>gender</th>\n",
       "      <th>age</th>\n",
       "      <th>hypertension</th>\n",
       "      <th>heart_disease</th>\n",
       "      <th>ever_married</th>\n",
       "      <th>work_type</th>\n",
       "      <th>Residence_type</th>\n",
       "      <th>avg_glucose_level</th>\n",
       "      <th>bmi</th>\n",
       "      <th>smoking_status</th>\n",
       "    </tr>\n",
       "  </thead>\n",
       "  <tbody>\n",
       "    <tr>\n",
       "      <th>0</th>\n",
       "      <td>1</td>\n",
       "      <td>67.0</td>\n",
       "      <td>0</td>\n",
       "      <td>1</td>\n",
       "      <td>1</td>\n",
       "      <td>0</td>\n",
       "      <td>0</td>\n",
       "      <td>228.69</td>\n",
       "      <td>36.6</td>\n",
       "      <td>1</td>\n",
       "    </tr>\n",
       "    <tr>\n",
       "      <th>1</th>\n",
       "      <td>1</td>\n",
       "      <td>80.0</td>\n",
       "      <td>0</td>\n",
       "      <td>1</td>\n",
       "      <td>1</td>\n",
       "      <td>0</td>\n",
       "      <td>1</td>\n",
       "      <td>105.92</td>\n",
       "      <td>32.5</td>\n",
       "      <td>0</td>\n",
       "    </tr>\n",
       "    <tr>\n",
       "      <th>2</th>\n",
       "      <td>0</td>\n",
       "      <td>49.0</td>\n",
       "      <td>0</td>\n",
       "      <td>0</td>\n",
       "      <td>1</td>\n",
       "      <td>0</td>\n",
       "      <td>0</td>\n",
       "      <td>171.23</td>\n",
       "      <td>34.4</td>\n",
       "      <td>2</td>\n",
       "    </tr>\n",
       "    <tr>\n",
       "      <th>3</th>\n",
       "      <td>0</td>\n",
       "      <td>79.0</td>\n",
       "      <td>1</td>\n",
       "      <td>0</td>\n",
       "      <td>1</td>\n",
       "      <td>1</td>\n",
       "      <td>1</td>\n",
       "      <td>174.12</td>\n",
       "      <td>24.0</td>\n",
       "      <td>0</td>\n",
       "    </tr>\n",
       "    <tr>\n",
       "      <th>4</th>\n",
       "      <td>1</td>\n",
       "      <td>81.0</td>\n",
       "      <td>0</td>\n",
       "      <td>0</td>\n",
       "      <td>1</td>\n",
       "      <td>0</td>\n",
       "      <td>0</td>\n",
       "      <td>186.21</td>\n",
       "      <td>29.0</td>\n",
       "      <td>1</td>\n",
       "    </tr>\n",
       "  </tbody>\n",
       "</table>\n",
       "</div>"
      ],
      "text/plain": [
       "   gender   age  hypertension  heart_disease  ever_married  work_type  \\\n",
       "0       1  67.0             0              1             1          0   \n",
       "1       1  80.0             0              1             1          0   \n",
       "2       0  49.0             0              0             1          0   \n",
       "3       0  79.0             1              0             1          1   \n",
       "4       1  81.0             0              0             1          0   \n",
       "\n",
       "   Residence_type  avg_glucose_level   bmi  smoking_status  \n",
       "0               0             228.69  36.6               1  \n",
       "1               1             105.92  32.5               0  \n",
       "2               0             171.23  34.4               2  \n",
       "3               1             174.12  24.0               0  \n",
       "4               0             186.21  29.0               1  "
      ]
     },
     "execution_count": 17,
     "metadata": {},
     "output_type": "execute_result"
    }
   ],
   "source": [
    "# split dataset in features and target variables\n",
    "\n",
    "# target\n",
    "target = stroke_subset[\"stroke\"]\n",
    "target_names = [\"no\", \"yes\"]\n",
    "\n",
    "# features\n",
    "stroke_data = stroke_subset.drop([\"stroke\",\"id\"], axis=1)\n",
    "feature_names = stroke_data.columns\n",
    "\n",
    "stroke_data.head()"
   ]
  },
  {
   "cell_type": "code",
   "execution_count": 18,
   "metadata": {},
   "outputs": [
    {
     "name": "stdout",
     "output_type": "stream",
     "text": [
      "**********************\n",
      "Before X: (29072, 10)\n",
      "Before y: (29072,)\n",
      "**********************\n",
      "SMOTED X: (57048, 10)\n",
      "SMOTED y: (57048,)\n"
     ]
    }
   ],
   "source": [
    "print(\"**********************\")\n",
    "print(f\"Before X: {stroke_data.shape}\")\n",
    "print(f\"Before y: {target.shape}\")\n",
    "\n",
    "sm = SMOTE()\n",
    "stroke_data, target = sm.fit_resample(stroke_data,target)\n",
    "\n",
    "print(\"**********************\")\n",
    "print(f\"SMOTED X: {stroke_data.shape}\")\n",
    "print(f\"SMOTED y: {target.shape}\")"
   ]
  },
  {
   "cell_type": "code",
   "execution_count": null,
   "metadata": {},
   "outputs": [],
   "source": []
  },
  {
   "cell_type": "markdown",
   "metadata": {},
   "source": [
    "## Used All Parameters"
   ]
  },
  {
   "cell_type": "code",
   "execution_count": 19,
   "metadata": {},
   "outputs": [],
   "source": [
    "# split dataset into training set and test set\n",
    "from sklearn.model_selection import train_test_split\n",
    "X_train, X_test, y_train, y_test = train_test_split(stroke_data, target, random_state=42)"
   ]
  },
  {
   "cell_type": "code",
   "execution_count": 20,
   "metadata": {},
   "outputs": [
    {
     "name": "stdout",
     "output_type": "stream",
     "text": [
      "Accuracy using the Random Forest Model for training: 1.0\n",
      "Accuracy using the Random Forest Model for testing: 0.970551114850652\n",
      "Difference in accuracy: 0.02944888514934796\n"
     ]
    }
   ],
   "source": [
    "# create Random Forest Classifier object\n",
    "rf = RandomForestClassifier(n_estimators=200)\n",
    "rf = rf.fit(X_train, y_train)\n",
    "train_score = rf.score(X_train, y_train)\n",
    "score = rf.score(X_test, y_test)\n",
    "difference = train_score - score\n",
    "\n",
    "print(f\"Accuracy using the Random Forest Model for training: {train_score}\")\n",
    "print(f\"Accuracy using the Random Forest Model for testing: {score}\")\n",
    "print(f\"Difference in accuracy: {difference}\")"
   ]
  },
  {
   "cell_type": "code",
   "execution_count": 21,
   "metadata": {},
   "outputs": [
    {
     "data": {
      "text/plain": [
       "[(0.4337738418542013, 'age'),\n",
       " (0.19909193357696503, 'avg_glucose_level'),\n",
       " (0.13911794395306618, 'bmi'),\n",
       " (0.05747410280806864, 'work_type'),\n",
       " (0.05433376011240886, 'smoking_status'),\n",
       " (0.04768907620421162, 'Residence_type'),\n",
       " (0.02819502858363839, 'gender'),\n",
       " (0.015715171405726702, 'hypertension'),\n",
       " (0.015673874066330522, 'ever_married'),\n",
       " (0.008935267435382772, 'heart_disease')]"
      ]
     },
     "execution_count": 21,
     "metadata": {},
     "output_type": "execute_result"
    }
   ],
   "source": [
    "sorted(zip(rf.feature_importances_, feature_names), reverse=True)"
   ]
  },
  {
   "cell_type": "code",
   "execution_count": 22,
   "metadata": {},
   "outputs": [
    {
     "name": "stdout",
     "output_type": "stream",
     "text": [
      "              precision    recall  f1-score   support\n",
      "\n",
      "   No Stroke       1.00      0.99      0.99     28524\n",
      "      Stroke       0.99      1.00      0.99     28524\n",
      "\n",
      "    accuracy                           0.99     57048\n",
      "   macro avg       0.99      0.99      0.99     57048\n",
      "weighted avg       0.99      0.99      0.99     57048\n",
      "\n"
     ]
    }
   ],
   "source": [
    "from sklearn.metrics import classification_report\n",
    "\n",
    "predictions = rf.predict(stroke_data)\n",
    "\n",
    "print(classification_report(target, predictions,\n",
    "                            target_names=[\"No Stroke\", \"Stroke\"]))"
   ]
  },
  {
   "cell_type": "code",
   "execution_count": 23,
   "metadata": {},
   "outputs": [
    {
     "data": {
      "text/plain": [
       "['RF_model.sav']"
      ]
     },
     "execution_count": 23,
     "metadata": {},
     "output_type": "execute_result"
    }
   ],
   "source": [
    "filename = 'RF_model.sav'\n",
    "\n",
    "#dump model to file\n",
    "joblib.dump(rf, filename)"
   ]
  },
  {
   "cell_type": "markdown",
   "metadata": {},
   "source": [
    "## With Max Depth = 3"
   ]
  },
  {
   "cell_type": "code",
   "execution_count": null,
   "metadata": {},
   "outputs": [],
   "source": [
    "# create Random Forest Classifier object\n",
    "rf = RandomForestClassifier(n_estimators=200, max_depth=3)\n",
    "rf = rf.fit(X_train, y_train)\n",
    "\n",
    "max_depth3_train_score = rf.score(X_train, y_train)\n",
    "max_depth3_score = rf.score(X_test, y_test)\n",
    "difference = max_depth3_train_score - max_depth3_score\n",
    "\n",
    "print(f\"Accuracy using the Random Forest Model with max depth of 3 for training: {max_depth3_train_score}\")\n",
    "print(f\"Accuracy using the Random Forest Model with max depth of 3 for testing: {max_depth3_score}\")\n",
    "print(f\"Difference in accuracy: {difference}\")"
   ]
  },
  {
   "cell_type": "code",
   "execution_count": null,
   "metadata": {},
   "outputs": [],
   "source": [
    "sorted(zip(rf.feature_importances_, feature_names), reverse=True)"
   ]
  },
  {
   "cell_type": "markdown",
   "metadata": {},
   "source": [
    "## With Min Sample Split = 10"
   ]
  },
  {
   "cell_type": "code",
   "execution_count": null,
   "metadata": {},
   "outputs": [],
   "source": [
    "# create Random Forest Classifier object\n",
    "rf = RandomForestClassifier(n_estimators=100, min_samples_split=10)\n",
    "rf = rf.fit(X_train, y_train)\n",
    "\n",
    "min_sample10_train_score = rf.score(X_train, y_train)\n",
    "min_sample10_score = rf.score(X_test, y_test)\n",
    "difference = min_sample10_train_score - min_sample10_score\n",
    "\n",
    "print(f\"Accuracy using the Random Forest Model with minimum sample of 10 for training: {min_sample10_train_score}\")\n",
    "print(f\"Accuracy using the Random Forest Model with minimum sample of 10 for testing: {min_sample10_score}\")\n",
    "print(f\"Difference in accuracy: {difference}\")"
   ]
  },
  {
   "cell_type": "code",
   "execution_count": null,
   "metadata": {},
   "outputs": [],
   "source": [
    "sorted(zip(rf.feature_importances_, feature_names), reverse=True)"
   ]
  },
  {
   "cell_type": "markdown",
   "metadata": {},
   "source": [
    "## Gender, Age, Hypertension, Heart Disease, Ever Married, BMI, Smoking Status"
   ]
  },
  {
   "cell_type": "code",
   "execution_count": null,
   "metadata": {},
   "outputs": [],
   "source": [
    "# split dataset in features and target variables\n",
    "\n",
    "# target\n",
    "target = stroke_subset[\"stroke\"]\n",
    "target_names = [\"no\", \"yes\"]\n",
    "\n",
    "# features\n",
    "stroke_data = stroke_subset.drop([\"stroke\",\"id\",\"work_type\",\"Residence_type\", \"avg_glucose_level\"], axis=1)\n",
    "feature_names = stroke_data.columns\n",
    "\n",
    "stroke_data.head()"
   ]
  },
  {
   "cell_type": "code",
   "execution_count": null,
   "metadata": {},
   "outputs": [],
   "source": [
    "# split dataset into training set and test set\n",
    "from sklearn.model_selection import train_test_split\n",
    "X_train, X_test, y_train, y_test = train_test_split(stroke_data, target, random_state=42)"
   ]
  },
  {
   "cell_type": "code",
   "execution_count": null,
   "metadata": {},
   "outputs": [],
   "source": [
    "# create Random Forest Classifier object\n",
    "rf = RandomForestClassifier(n_estimators=200)\n",
    "rf = rf.fit(X_train, y_train)\n",
    "\n",
    "train_score = rf.score(X_train, y_train)\n",
    "score = rf.score(X_test, y_test)\n",
    "difference = train_score - score\n",
    "\n",
    "print(f\"Accuracy using the Random Forest Model without work type, residence type, or average glucose level for training: {train_score}\")\n",
    "print(f\"Accuracy using the Random Forest Model without work type, residence type, or average glucose level for testing: {score}\")\n",
    "print(f\"Difference in accuracy: {difference}\")"
   ]
  },
  {
   "cell_type": "code",
   "execution_count": null,
   "metadata": {},
   "outputs": [],
   "source": [
    "sorted(zip(rf.feature_importances_, feature_names), reverse=True)"
   ]
  },
  {
   "cell_type": "markdown",
   "metadata": {},
   "source": [
    "## Gender, Age, Hypertension, Heart Disease, Ever Married, Avg Glucose Level, BMI, Smoking Status"
   ]
  },
  {
   "cell_type": "code",
   "execution_count": null,
   "metadata": {},
   "outputs": [],
   "source": [
    "# split dataset in features and target variables\n",
    "\n",
    "# target\n",
    "target = stroke_subset[\"stroke\"]\n",
    "target_names = [\"no\", \"yes\"]\n",
    "\n",
    "# features\n",
    "stroke_data = stroke_subset.drop([\"stroke\",\"id\",\"work_type\",\"Residence_type\"], axis=1)\n",
    "feature_names = stroke_data.columns\n",
    "\n",
    "stroke_data.head()"
   ]
  },
  {
   "cell_type": "code",
   "execution_count": null,
   "metadata": {},
   "outputs": [],
   "source": [
    "# split dataset into training set and test set\n",
    "from sklearn.model_selection import train_test_split\n",
    "X_train, X_test, y_train, y_test = train_test_split(stroke_data, target, random_state=42)"
   ]
  },
  {
   "cell_type": "code",
   "execution_count": null,
   "metadata": {},
   "outputs": [],
   "source": [
    "# create Random Forest Classifier object\n",
    "rf = RandomForestClassifier(n_estimators=200)\n",
    "rf = rf.fit(X_train, y_train)\n",
    "\n",
    "train_score = rf.score(X_train, y_train)\n",
    "score = rf.score(X_test, y_test)\n",
    "difference = train_score - score\n",
    "\n",
    "print(f\"Accuracy using the Random Forest Model without work type and residence type for training: {train_score}\")\n",
    "print(f\"Accuracy using the Random Forest Model without work type and residence type for testing: {score}\")\n",
    "print(f\"Difference in accuracy: {difference}\")"
   ]
  },
  {
   "cell_type": "code",
   "execution_count": null,
   "metadata": {},
   "outputs": [],
   "source": [
    "sorted(zip(rf.feature_importances_, feature_names), reverse=True)"
   ]
  },
  {
   "cell_type": "markdown",
   "metadata": {},
   "source": [
    "## Gender, Age, Hypertension, Heart Disease, Avg Glucose Level, BMI, Smoking Status"
   ]
  },
  {
   "cell_type": "code",
   "execution_count": null,
   "metadata": {},
   "outputs": [],
   "source": [
    "# split dataset in features and target variables\n",
    "\n",
    "# target\n",
    "target = stroke_subset[\"stroke\"]\n",
    "target_names = [\"no\", \"yes\"]\n",
    "\n",
    "# features\n",
    "stroke_data = stroke_subset.drop([\"stroke\",\"id\",\"work_type\",\"Residence_type\", \"ever_married\"], axis=1)\n",
    "feature_names = stroke_data.columns\n",
    "\n",
    "stroke_data.head()"
   ]
  },
  {
   "cell_type": "code",
   "execution_count": null,
   "metadata": {},
   "outputs": [],
   "source": [
    "# split dataset into training set and test set\n",
    "from sklearn.model_selection import train_test_split\n",
    "X_train, X_test, y_train, y_test = train_test_split(stroke_data, target, random_state=42)"
   ]
  },
  {
   "cell_type": "code",
   "execution_count": null,
   "metadata": {},
   "outputs": [],
   "source": [
    "# create Random Forest Classifier object\n",
    "rf = RandomForestClassifier(n_estimators=200)\n",
    "rf = rf.fit(X_train, y_train)\n",
    "\n",
    "train_score = rf.score(X_train, y_train)\n",
    "score = rf.score(X_test, y_test)\n",
    "difference = train_score - score\n",
    "\n",
    "print(f\"Accuracy using the Random Forest Model without work type, residence type, or ever married for training: {train_score}\")\n",
    "print(f\"Accuracy using the Random Forest Model without work type, residence type, or ever married for testing: {score}\")\n",
    "print(f\"Difference in accuracy: {difference}\")"
   ]
  },
  {
   "cell_type": "code",
   "execution_count": null,
   "metadata": {},
   "outputs": [],
   "source": [
    "sorted(zip(rf.feature_importances_, feature_names), reverse=True)"
   ]
  },
  {
   "cell_type": "markdown",
   "metadata": {},
   "source": [
    "## Gender, Age, Heart Disease, BMI"
   ]
  },
  {
   "cell_type": "code",
   "execution_count": null,
   "metadata": {},
   "outputs": [],
   "source": [
    "# split dataset in features and target variables\n",
    "\n",
    "# target\n",
    "target = stroke_subset[\"stroke\"]\n",
    "target_names = [\"no\", \"yes\"]\n",
    "\n",
    "# features\n",
    "stroke_data = stroke_subset.drop([\"stroke\",\"id\",\"work_type\",\"Residence_type\", \"ever_married\", \"hypertension\", \"avg_glucose_level\", \"smoking_status\"], axis=1)\n",
    "feature_names = stroke_data.columns\n",
    "\n",
    "stroke_data.head()"
   ]
  },
  {
   "cell_type": "code",
   "execution_count": null,
   "metadata": {},
   "outputs": [],
   "source": [
    "# split dataset into training set and test set\n",
    "from sklearn.model_selection import train_test_split\n",
    "X_train, X_test, y_train, y_test = train_test_split(stroke_data, target, random_state=42)"
   ]
  },
  {
   "cell_type": "code",
   "execution_count": null,
   "metadata": {},
   "outputs": [],
   "source": [
    "# create Random Forest Classifier object\n",
    "rf = RandomForestClassifier(n_estimators=200)\n",
    "rf = rf.fit(X_train, y_train)\n",
    "\n",
    "train_score = rf.score(X_train, y_train)\n",
    "score = rf.score(X_test, y_test)\n",
    "difference = train_score - score\n",
    "\n",
    "print(f\"Accuracy using the Random Forest Model with gender, age, heart disease, and bmi for training: {train_score}\")\n",
    "print(f\"Accuracy using the Random Forest Model with gender, age, heart disease, and bmi for testing: {score}\")\n",
    "print(f\"Difference in accuracy: {difference}\")"
   ]
  },
  {
   "cell_type": "code",
   "execution_count": null,
   "metadata": {},
   "outputs": [],
   "source": [
    "sorted(zip(rf.feature_importances_, feature_names), reverse=True)"
   ]
  },
  {
   "cell_type": "markdown",
   "metadata": {},
   "source": [
    "## Age, Hypertension, Heart Disease, Avg Glucose Level, BMI, Smoking Status"
   ]
  },
  {
   "cell_type": "code",
   "execution_count": null,
   "metadata": {},
   "outputs": [],
   "source": [
    "# split dataset in features and target variables\n",
    "\n",
    "# target\n",
    "target = stroke_subset[\"stroke\"]\n",
    "target_names = [\"no\", \"yes\"]\n",
    "\n",
    "# features\n",
    "stroke_data = stroke_subset.drop([\"stroke\",\"id\", \"gender\",\"work_type\",\"Residence_type\", \"ever_married\"], axis=1)\n",
    "feature_names = stroke_data.columns\n",
    "\n",
    "stroke_data.head()"
   ]
  },
  {
   "cell_type": "code",
   "execution_count": null,
   "metadata": {},
   "outputs": [],
   "source": [
    "# split dataset into training set and test set\n",
    "from sklearn.model_selection import train_test_split\n",
    "X_train, X_test, y_train, y_test = train_test_split(stroke_data, target, random_state=42)"
   ]
  },
  {
   "cell_type": "code",
   "execution_count": null,
   "metadata": {},
   "outputs": [],
   "source": [
    "# create Random Forest Classifier object\n",
    "rf = RandomForestClassifier(n_estimators=200)\n",
    "rf = rf.fit(X_train, y_train)\n",
    "\n",
    "train_score = rf.score(X_train, y_train)\n",
    "score = rf.score(X_test, y_test)\n",
    "difference = train_score - score\n",
    "\n",
    "print(f\"Accuracy using the Random Forest Model with age, hypertension, heart disease, avg glucose level, bmi, and smoking status for training: {train_score}\")\n",
    "print(f\"Accuracy using the Random Forest Model with age, hypertension, heart disease, avg glucose level, bmi, and smoking status for testing: {score}\")\n",
    "print(f\"Difference in accuracy: {difference}\")"
   ]
  },
  {
   "cell_type": "code",
   "execution_count": null,
   "metadata": {},
   "outputs": [],
   "source": [
    "sorted(zip(rf.feature_importances_, feature_names), reverse=True)"
   ]
  },
  {
   "cell_type": "markdown",
   "metadata": {},
   "source": [
    "## Gender and Age"
   ]
  },
  {
   "cell_type": "code",
   "execution_count": null,
   "metadata": {},
   "outputs": [],
   "source": [
    "# split dataset in features and target variables\n",
    "\n",
    "# target\n",
    "target = stroke_subset[\"stroke\"]\n",
    "target_names = [\"no\", \"yes\"]\n",
    "\n",
    "# features\n",
    "stroke_data = stroke_subset.drop([\"stroke\",\"id\", \"work_type\",\"Residence_type\", \"ever_married\", \"hypertension\", \"heart_disease\", \"avg_glucose_level\", \"bmi\", \"smoking_status\"], axis=1)\n",
    "feature_names = stroke_data.columns\n",
    "\n",
    "stroke_data.head()\n",
    "\n",
    "# split dataset into training set and test set\n",
    "from sklearn.model_selection import train_test_split\n",
    "X_train, X_test, y_train, y_test = train_test_split(stroke_data, target, random_state=42)\n",
    "\n",
    "# create Random Forest Classifier object\n",
    "rf = RandomForestClassifier(n_estimators=200)\n",
    "rf = rf.fit(X_train, y_train)\n",
    "\n",
    "train_score = rf.score(X_train, y_train)\n",
    "score = rf.score(X_test, y_test)\n",
    "difference = train_score - score\n",
    "\n",
    "print(f\"Accuracy using the Random Forest Model with gender and age for training: {train_score}\")\n",
    "print(f\"Accuracy using the Random Forest Model with gender and for testing: {score}\")\n",
    "print(f\"Difference in accuracy: {difference}\")\n"
   ]
  },
  {
   "cell_type": "code",
   "execution_count": null,
   "metadata": {},
   "outputs": [],
   "source": [
    "sorted(zip(rf.feature_importances_, feature_names), reverse=True)"
   ]
  },
  {
   "cell_type": "code",
   "execution_count": null,
   "metadata": {},
   "outputs": [],
   "source": []
  }
 ],
 "metadata": {
  "kernelspec": {
   "display_name": "Python 3",
   "language": "python",
   "name": "python3"
  },
  "language_info": {
   "codemirror_mode": {
    "name": "ipython",
    "version": 3
   },
   "file_extension": ".py",
   "mimetype": "text/x-python",
   "name": "python",
   "nbconvert_exporter": "python",
   "pygments_lexer": "ipython3",
   "version": "3.6.12"
  }
 },
 "nbformat": 4,
 "nbformat_minor": 4
}
