{
 "cells": [
  {
   "cell_type": "markdown",
   "metadata": {},
   "source": [
    "# Random Forest Model"
   ]
  },
  {
   "cell_type": "code",
   "execution_count": null,
   "metadata": {},
   "outputs": [],
   "source": [
    "# import required libraries\n",
    "from sklearn.ensemble import RandomForestClassifier\n",
    "import pandas as pd\n",
    "import os"
   ]
  },
  {
   "cell_type": "code",
   "execution_count": null,
   "metadata": {},
   "outputs": [],
   "source": [
    "# load stroke positive data subset\n",
    "stroke_subset = pd.read_csv(\"data/combined_subsets.csv\")\n",
    "stroke_subset.head()"
   ]
  },
  {
   "cell_type": "code",
   "execution_count": null,
   "metadata": {},
   "outputs": [],
   "source": [
    "# split dataset in features and target variables\n",
    "\n",
    "# target\n",
    "target = stroke_subset[\"stroke\"]\n",
    "target_names = [\"no\", \"yes\"]\n",
    "\n",
    "# features\n",
    "stroke_data = stroke_subset.drop([\"stroke\",\"id\"], axis=1)\n",
    "feature_names = stroke_data.columns\n",
    "\n",
    "stroke_data.head()"
   ]
  },
  {
   "cell_type": "markdown",
   "metadata": {},
   "source": [
    "## Used All Parameters"
   ]
  },
  {
   "cell_type": "code",
   "execution_count": null,
   "metadata": {},
   "outputs": [],
   "source": [
    "# split dataset into training set and test set\n",
    "from sklearn.model_selection import train_test_split\n",
    "X_train, X_test, y_train, y_test = train_test_split(stroke_data, target, random_state=42)"
   ]
  },
  {
   "cell_type": "code",
   "execution_count": null,
   "metadata": {},
   "outputs": [],
   "source": [
    "# create Random Forest Classifier object\n",
    "rf = RandomForestClassifier(n_estimators=200)\n",
    "rf = rf.fit(X_train, y_train)\n",
    "train_score = rf.score(X_train, y_train)\n",
    "score = rf.score(X_test, y_test)\n",
    "difference = train_score - score\n",
    "\n",
    "print(f\"Accuracy using the Random Forest Model for training: {train_score}\")\n",
    "print(f\"Accuracy using the Random Forest Model for testing: {score}\")\n",
    "print(f\"Difference in accuracy: {difference}\")"
   ]
  },
  {
   "cell_type": "code",
   "execution_count": null,
   "metadata": {},
   "outputs": [],
   "source": [
    "sorted(zip(rf.feature_importances_, feature_names), reverse=True)"
   ]
  },
  {
   "cell_type": "markdown",
   "metadata": {},
   "source": [
    "## With Max Depth = 3"
   ]
  },
  {
   "cell_type": "code",
   "execution_count": null,
   "metadata": {},
   "outputs": [],
   "source": [
    "# create Random Forest Classifier object\n",
    "rf = RandomForestClassifier(n_estimators=200, max_depth=3)\n",
    "rf = rf.fit(X_train, y_train)\n",
    "\n",
    "max_depth3_train_score = rf.score(X_train, y_train)\n",
    "max_depth3_score = rf.score(X_test, y_test)\n",
    "difference = max_depth3_train_score - max_depth3_score\n",
    "\n",
    "print(f\"Accuracy using the Random Forest Model with max depth of 3 for training: {max_depth3_train_score}\")\n",
    "print(f\"Accuracy using the Random Forest Model with max depth of 3 for testing: {max_depth3_score}\")\n",
    "print(f\"Difference in accuracy: {difference}\")"
   ]
  },
  {
   "cell_type": "code",
   "execution_count": null,
   "metadata": {},
   "outputs": [],
   "source": [
    "sorted(zip(rf.feature_importances_, feature_names), reverse=True)"
   ]
  },
  {
   "cell_type": "markdown",
   "metadata": {},
   "source": [
    "## With Min Sample Split = 10"
   ]
  },
  {
   "cell_type": "code",
   "execution_count": null,
   "metadata": {},
   "outputs": [],
   "source": [
    "# create Random Forest Classifier object\n",
    "rf = RandomForestClassifier(n_estimators=100, min_samples_split=10)\n",
    "rf = rf.fit(X_train, y_train)\n",
    "\n",
    "min_sample10_train_score = rf.score(X_train, y_train)\n",
    "min_sample10_score = rf.score(X_test, y_test)\n",
    "difference = min_sample10_train_score - min_sample10_score\n",
    "\n",
    "print(f\"Accuracy using the Random Forest Model with minimum sample of 10 for training: {min_sample10_train_score}\")\n",
    "print(f\"Accuracy using the Random Forest Model with minimum sample of 10 for testing: {min_sample10_score}\")\n",
    "print(f\"Difference in accuracy: {difference}\")"
   ]
  },
  {
   "cell_type": "code",
   "execution_count": null,
   "metadata": {},
   "outputs": [],
   "source": [
    "sorted(zip(rf.feature_importances_, feature_names), reverse=True)"
   ]
  },
  {
   "cell_type": "markdown",
   "metadata": {},
   "source": [
    "## Gender, Age, Hypertension, Heart Disease, Ever Married, BMI, Smoking Status"
   ]
  },
  {
   "cell_type": "code",
   "execution_count": null,
   "metadata": {},
   "outputs": [],
   "source": [
    "# split dataset in features and target variables\n",
    "\n",
    "# target\n",
    "target = stroke_subset[\"stroke\"]\n",
    "target_names = [\"no\", \"yes\"]\n",
    "\n",
    "# features\n",
    "stroke_data = stroke_subset.drop([\"stroke\",\"id\",\"work_type\",\"Residence_type\", \"avg_glucose_level\"], axis=1)\n",
    "feature_names = stroke_data.columns\n",
    "\n",
    "stroke_data.head()"
   ]
  },
  {
   "cell_type": "code",
   "execution_count": null,
   "metadata": {},
   "outputs": [],
   "source": [
    "# split dataset into training set and test set\n",
    "from sklearn.model_selection import train_test_split\n",
    "X_train, X_test, y_train, y_test = train_test_split(stroke_data, target, random_state=42)"
   ]
  },
  {
   "cell_type": "code",
   "execution_count": null,
   "metadata": {},
   "outputs": [],
   "source": [
    "# create Random Forest Classifier object\n",
    "rf = RandomForestClassifier(n_estimators=200)\n",
    "rf = rf.fit(X_train, y_train)\n",
    "\n",
    "train_score = rf.score(X_train, y_train)\n",
    "score = rf.score(X_test, y_test)\n",
    "difference = train_score - score\n",
    "\n",
    "print(f\"Accuracy using the Random Forest Model without work type, residence type, or average glucose level for training: {train_score}\")\n",
    "print(f\"Accuracy using the Random Forest Model without work type, residence type, or average glucose level for testing: {score}\")\n",
    "print(f\"Difference in accuracy: {difference}\")"
   ]
  },
  {
   "cell_type": "code",
   "execution_count": null,
   "metadata": {},
   "outputs": [],
   "source": [
    "sorted(zip(rf.feature_importances_, feature_names), reverse=True)"
   ]
  },
  {
   "cell_type": "markdown",
   "metadata": {},
   "source": [
    "## Gender, Age, Hypertension, Heart Disease, Ever Married, Avg Glucose Level, BMI, Smoking Status"
   ]
  },
  {
   "cell_type": "code",
   "execution_count": null,
   "metadata": {},
   "outputs": [],
   "source": [
    "# split dataset in features and target variables\n",
    "\n",
    "# target\n",
    "target = stroke_subset[\"stroke\"]\n",
    "target_names = [\"no\", \"yes\"]\n",
    "\n",
    "# features\n",
    "stroke_data = stroke_subset.drop([\"stroke\",\"id\",\"work_type\",\"Residence_type\"], axis=1)\n",
    "feature_names = stroke_data.columns\n",
    "\n",
    "stroke_data.head()"
   ]
  },
  {
   "cell_type": "code",
   "execution_count": null,
   "metadata": {},
   "outputs": [],
   "source": [
    "# split dataset into training set and test set\n",
    "from sklearn.model_selection import train_test_split\n",
    "X_train, X_test, y_train, y_test = train_test_split(stroke_data, target, random_state=42)"
   ]
  },
  {
   "cell_type": "code",
   "execution_count": null,
   "metadata": {},
   "outputs": [],
   "source": [
    "# create Random Forest Classifier object\n",
    "rf = RandomForestClassifier(n_estimators=200)\n",
    "rf = rf.fit(X_train, y_train)\n",
    "\n",
    "train_score = rf.score(X_train, y_train)\n",
    "score = rf.score(X_test, y_test)\n",
    "difference = train_score - score\n",
    "\n",
    "print(f\"Accuracy using the Random Forest Model without work type and residence type for training: {train_score}\")\n",
    "print(f\"Accuracy using the Random Forest Model without work type and residence type for testing: {score}\")\n",
    "print(f\"Difference in accuracy: {difference}\")"
   ]
  },
  {
   "cell_type": "code",
   "execution_count": null,
   "metadata": {},
   "outputs": [],
   "source": [
    "sorted(zip(rf.feature_importances_, feature_names), reverse=True)"
   ]
  },
  {
   "cell_type": "markdown",
   "metadata": {},
   "source": [
    "## Gender, Age, Hypertension, Heart Disease, Avg Glucose Level, BMI, Smoking Status"
   ]
  },
  {
   "cell_type": "code",
   "execution_count": null,
   "metadata": {},
   "outputs": [],
   "source": [
    "# split dataset in features and target variables\n",
    "\n",
    "# target\n",
    "target = stroke_subset[\"stroke\"]\n",
    "target_names = [\"no\", \"yes\"]\n",
    "\n",
    "# features\n",
    "stroke_data = stroke_subset.drop([\"stroke\",\"id\",\"work_type\",\"Residence_type\", \"ever_married\"], axis=1)\n",
    "feature_names = stroke_data.columns\n",
    "\n",
    "stroke_data.head()"
   ]
  },
  {
   "cell_type": "code",
   "execution_count": null,
   "metadata": {},
   "outputs": [],
   "source": [
    "# split dataset into training set and test set\n",
    "from sklearn.model_selection import train_test_split\n",
    "X_train, X_test, y_train, y_test = train_test_split(stroke_data, target, random_state=42)"
   ]
  },
  {
   "cell_type": "code",
   "execution_count": null,
   "metadata": {},
   "outputs": [],
   "source": [
    "# create Random Forest Classifier object\n",
    "rf = RandomForestClassifier(n_estimators=200)\n",
    "rf = rf.fit(X_train, y_train)\n",
    "\n",
    "train_score = rf.score(X_train, y_train)\n",
    "score = rf.score(X_test, y_test)\n",
    "difference = train_score - score\n",
    "\n",
    "print(f\"Accuracy using the Random Forest Model without work type, residence type, or ever married for training: {train_score}\")\n",
    "print(f\"Accuracy using the Random Forest Model without work type, residence type, or ever married for testing: {score}\")\n",
    "print(f\"Difference in accuracy: {difference}\")"
   ]
  },
  {
   "cell_type": "code",
   "execution_count": null,
   "metadata": {},
   "outputs": [],
   "source": [
    "sorted(zip(rf.feature_importances_, feature_names), reverse=True)"
   ]
  },
  {
   "cell_type": "markdown",
   "metadata": {},
   "source": [
    "## Gender, Age, Heart Disease, BMI"
   ]
  },
  {
   "cell_type": "code",
   "execution_count": null,
   "metadata": {},
   "outputs": [],
   "source": [
    "# split dataset in features and target variables\n",
    "\n",
    "# target\n",
    "target = stroke_subset[\"stroke\"]\n",
    "target_names = [\"no\", \"yes\"]\n",
    "\n",
    "# features\n",
    "stroke_data = stroke_subset.drop([\"stroke\",\"id\",\"work_type\",\"Residence_type\", \"ever_married\", \"hypertension\", \"avg_glucose_level\", \"smoking_status\"], axis=1)\n",
    "feature_names = stroke_data.columns\n",
    "\n",
    "stroke_data.head()"
   ]
  },
  {
   "cell_type": "code",
   "execution_count": null,
   "metadata": {},
   "outputs": [],
   "source": [
    "# split dataset into training set and test set\n",
    "from sklearn.model_selection import train_test_split\n",
    "X_train, X_test, y_train, y_test = train_test_split(stroke_data, target, random_state=42)"
   ]
  },
  {
   "cell_type": "code",
   "execution_count": null,
   "metadata": {},
   "outputs": [],
   "source": [
    "# create Random Forest Classifier object\n",
    "rf = RandomForestClassifier(n_estimators=200)\n",
    "rf = rf.fit(X_train, y_train)\n",
    "\n",
    "train_score = rf.score(X_train, y_train)\n",
    "score = rf.score(X_test, y_test)\n",
    "difference = train_score - score\n",
    "\n",
    "print(f\"Accuracy using the Random Forest Model with gender, age, heart disease, and bmi for training: {train_score}\")\n",
    "print(f\"Accuracy using the Random Forest Model with gender, age, heart disease, and bmi for testing: {score}\")\n",
    "print(f\"Difference in accuracy: {difference}\")"
   ]
  },
  {
   "cell_type": "code",
   "execution_count": null,
   "metadata": {},
   "outputs": [],
   "source": [
    "sorted(zip(rf.feature_importances_, feature_names), reverse=True)"
   ]
  },
  {
   "cell_type": "markdown",
   "metadata": {},
   "source": [
    "## Age, Hypertension, Heart Disease, Avg Glucose Level, BMI, Smoking Status"
   ]
  },
  {
   "cell_type": "code",
   "execution_count": null,
   "metadata": {},
   "outputs": [],
   "source": [
    "# split dataset in features and target variables\n",
    "\n",
    "# target\n",
    "target = stroke_subset[\"stroke\"]\n",
    "target_names = [\"no\", \"yes\"]\n",
    "\n",
    "# features\n",
    "stroke_data = stroke_subset.drop([\"stroke\",\"id\", \"gender\",\"work_type\",\"Residence_type\", \"ever_married\"], axis=1)\n",
    "feature_names = stroke_data.columns\n",
    "\n",
    "stroke_data.head()"
   ]
  },
  {
   "cell_type": "code",
   "execution_count": null,
   "metadata": {},
   "outputs": [],
   "source": [
    "# split dataset into training set and test set\n",
    "from sklearn.model_selection import train_test_split\n",
    "X_train, X_test, y_train, y_test = train_test_split(stroke_data, target, random_state=42)"
   ]
  },
  {
   "cell_type": "code",
   "execution_count": null,
   "metadata": {},
   "outputs": [],
   "source": [
    "# create Random Forest Classifier object\n",
    "rf = RandomForestClassifier(n_estimators=200)\n",
    "rf = rf.fit(X_train, y_train)\n",
    "\n",
    "train_score = rf.score(X_train, y_train)\n",
    "score = rf.score(X_test, y_test)\n",
    "difference = train_score - score\n",
    "\n",
    "print(f\"Accuracy using the Random Forest Model with age, hypertension, heart disease, avg glucose level, bmi, and smoking status for training: {train_score}\")\n",
    "print(f\"Accuracy using the Random Forest Model with age, hypertension, heart disease, avg glucose level, bmi, and smoking status for testing: {score}\")\n",
    "print(f\"Difference in accuracy: {difference}\")"
   ]
  },
  {
   "cell_type": "code",
   "execution_count": null,
   "metadata": {},
   "outputs": [],
   "source": [
    "sorted(zip(rf.feature_importances_, feature_names), reverse=True)"
   ]
  },
  {
   "cell_type": "markdown",
   "metadata": {},
   "source": [
    "## Gender and Age"
   ]
  },
  {
   "cell_type": "code",
   "execution_count": null,
   "metadata": {},
   "outputs": [],
   "source": [
    "# split dataset in features and target variables\n",
    "\n",
    "# target\n",
    "target = stroke_subset[\"stroke\"]\n",
    "target_names = [\"no\", \"yes\"]\n",
    "\n",
    "# features\n",
    "stroke_data = stroke_subset.drop([\"stroke\",\"id\", \"work_type\",\"Residence_type\", \"ever_married\", \"hypertension\", \"heart_disease\", \"avg_glucose_level\", \"bmi\", \"smoking_status\"], axis=1)\n",
    "feature_names = stroke_data.columns\n",
    "\n",
    "stroke_data.head()\n",
    "\n",
    "# split dataset into training set and test set\n",
    "from sklearn.model_selection import train_test_split\n",
    "X_train, X_test, y_train, y_test = train_test_split(stroke_data, target, random_state=42)\n",
    "\n",
    "# create Random Forest Classifier object\n",
    "rf = RandomForestClassifier(n_estimators=200)\n",
    "rf = rf.fit(X_train, y_train)\n",
    "\n",
    "train_score = rf.score(X_train, y_train)\n",
    "score = rf.score(X_test, y_test)\n",
    "difference = train_score - score\n",
    "\n",
    "print(f\"Accuracy using the Random Forest Model with gender and age for training: {train_score}\")\n",
    "print(f\"Accuracy using the Random Forest Model with gender and for testing: {score}\")\n",
    "print(f\"Difference in accuracy: {difference}\")\n"
   ]
  },
  {
   "cell_type": "code",
   "execution_count": null,
   "metadata": {},
   "outputs": [],
   "source": [
    "sorted(zip(rf.feature_importances_, feature_names), reverse=True)"
   ]
  },
  {
   "cell_type": "code",
   "execution_count": null,
   "metadata": {},
   "outputs": [],
   "source": []
  }
 ],
 "metadata": {
  "kernelspec": {
   "display_name": "Python 3",
   "language": "python",
   "name": "python3"
  },
  "language_info": {
   "codemirror_mode": {
    "name": "ipython",
    "version": 3
   },
   "file_extension": ".py",
   "mimetype": "text/x-python",
   "name": "python",
   "nbconvert_exporter": "python",
   "pygments_lexer": "ipython3",
   "version": "3.6.12"
  }
 },
 "nbformat": 4,
 "nbformat_minor": 4
}
