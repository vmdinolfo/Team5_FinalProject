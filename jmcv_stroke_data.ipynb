{
 "cells": [
  {
   "attachments": {
    "image.png": {
     "image/png": "[encoded data removed]"
    }
   },
   "cell_type": "markdown",
   "metadata": {},
   "source": [
    "# Do you know your stroke risk?\n",
    "\n",
    "Source of the data: https://www.sciencedirect.com/science/article/pii/S0933365719302295?via%3Dihub\n",
    "Liu, Tianyu; Fan, Wenhui; Wu, Cheng (2019), “Data for: A hybrid machine learning approach to cerebral stroke prediction based on imbalanced medical-datasets”, Mendeley Data, V1, doi: 10.17632/x8ygrw87jw.1\n",
    "\n",
    "The medical dataset contains 43,400 records of potential patients which includes 783 occurrences of stroke. \n",
    "\n",
    "Cerebral stroke has become a significant global public health issue. The ideal solution to this concern is to prevent in advance by controlling related metabolic factors. However, it is difficult for medical staff to decide whether special precautions are needed for a potential patient only based on the monitoring of physiological indicators unless they are obviously abnormal. This project builds a machine learning model to predict whether someone is at risk of having a stroke.\n",
    "\n",
    "The data in each row includes numerical factors, such as age and average glucose levels, and categorical factors, such as \"has heart disease\" (yes or no), work type, and smoking status. This is not an exhaustive list. We use this data to determine which factors contribute to having a stroke, and among those which hold the most weight.\n",
    "\n",
    "### Data Dictionary\n",
    "![image.png](attachment:image.png)"
   ]
  },
  {
   "cell_type": "markdown",
   "metadata": {},
   "source": [
    "# Step 1: Clean the data and pre-process"
   ]
  },
  {
   "cell_type": "markdown",
   "metadata": {},
   "source": [
    "## Basic analysis of the input dataset"
   ]
  },
  {
   "cell_type": "code",
   "execution_count": null,
   "metadata": {},
   "outputs": [],
   "source": [
    "# Dependencies and Setup\n",
    "import pandas as pd\n",
    "import matplotlib.pyplot as plt\n",
    "import numpy as np\n",
    "import scipy.stats as sts\n",
    "import seaborn as sns\n",
    "%matplotlib inline\n",
    "sns.set_style('whitegrid')\n",
    "\n",
    "# Read the stroke dataset\n",
    "input_csv = pd.read_csv(\"data/stroke_dataset.csv\", delimiter=',', skipinitialspace=True)\n",
    "input_csv.shape"
   ]
  },
  {
   "cell_type": "code",
   "execution_count": null,
   "metadata": {},
   "outputs": [],
   "source": [
    "# Display the input data for preview\n",
    "input_csv"
   ]
  },
  {
   "cell_type": "code",
   "execution_count": null,
   "metadata": {},
   "outputs": [],
   "source": [
    "# Check the number of unique records using groupby\n",
    "csv_group = input_csv.groupby(\"id\")\n",
    "len(csv_group)"
   ]
  },
  {
   "cell_type": "markdown",
   "metadata": {},
   "source": [
    "## Identify missing values in machine learning dataset"
   ]
  },
  {
   "cell_type": "code",
   "execution_count": null,
   "metadata": {},
   "outputs": [],
   "source": [
    "# Count missing values for each column of the input dataset\n",
    "\n",
    "input_csv.isnull().sum()"
   ]
  },
  {
   "cell_type": "markdown",
   "metadata": {},
   "source": [
    "### Options for dealing with missing data:\n",
    "\n",
    "1. Deleting Rows\n",
    "1. Replacing With Mean/Median/Mode\n",
    "1. Assigning An Unique Category\n",
    "1. Predicting The Missing Values\n",
    "1. Using Algorithms Which Support Missing Values"
   ]
  },
  {
   "cell_type": "code",
   "execution_count": null,
   "metadata": {},
   "outputs": [],
   "source": [
    "# Count values for each column of the input dataset\n",
    "\n",
    "input_csv.notnull().sum()"
   ]
  },
  {
   "cell_type": "code",
   "execution_count": null,
   "metadata": {},
   "outputs": [],
   "source": [
    "# List the categorical columns present in the dataset\n",
    "input_csv.select_dtypes(exclude=np.number).columns"
   ]
  },
  {
   "cell_type": "code",
   "execution_count": null,
   "metadata": {},
   "outputs": [],
   "source": [
    "# List the numerical columns present in the dataset\n",
    "input_csv.select_dtypes(include=np.number).columns"
   ]
  },
  {
   "cell_type": "code",
   "execution_count": null,
   "metadata": {},
   "outputs": [],
   "source": [
    "# How many people had a stroke.\n",
    "how_many_people_had_a_stroke = len(input_csv[input_csv[\"stroke\"] == 1])\n",
    "how_many_people_had_a_stroke"
   ]
  },
  {
   "cell_type": "code",
   "execution_count": null,
   "metadata": {},
   "outputs": [],
   "source": [
    "# Percentage of people who had a stroke\n",
    "percentage_of_people_who_had_a_stroke = (how_many_people_had_a_stroke / len(input_csv) ) * 100\n",
    "percentage_of_people_who_had_a_stroke"
   ]
  },
  {
   "cell_type": "markdown",
   "metadata": {},
   "source": [
    "## Numerical and Categorical Analysis"
   ]
  },
  {
   "cell_type": "code",
   "execution_count": null,
   "metadata": {},
   "outputs": [],
   "source": [
    "# Create list of possible categorical features\n",
    "possible_categorical_features = [\"gender\",\n",
    "                                 \"hypertension\",\n",
    "                                 \"heart_disease\",\n",
    "                                 \"ever_married\",\n",
    "                                 \"work_type\",\n",
    "                                 \"Residence_type\",\n",
    "                                 \"smoking_status\"]\n",
    "\n",
    "# Create list of possible numerical features\n",
    "possible_numerical_features = [\"age\",\n",
    "                               \"avg_glucose_level\",\n",
    "                               \"bmi\"]"
   ]
  },
  {
   "cell_type": "code",
   "execution_count": null,
   "metadata": {},
   "outputs": [],
   "source": [
    "# Make kdeplot for each possible numerical feature\n",
    "for possible_feature in possible_numerical_features:\n",
    "    \n",
    "    # Make two kdeplots,\n",
    "    # one for the complete dataset,\n",
    "    # and one for only those who had a stroke\n",
    "    sns.kdeplot(input_csv[possible_feature])\n",
    "    sns.kdeplot(input_csv[input_csv[\"stroke\"] == 1][possible_feature])\n",
    "\n",
    "    # Calculate the mode of the current feature,\n",
    "    # (for both the complete dataset and the only-stroke-true subset)\n",
    "    # To include in the plot title\n",
    "    full_dataset_mode = round(input_csv.mode()[possible_feature][0], 2)\n",
    "    stroke_true_mode = round(input_csv[input_csv[\"stroke\"] == 1].mode()[possible_feature][0], 2)\n",
    "    plt.title(f\"Feature: {possible_feature}\\nMode (full dataset): {full_dataset_mode}\\nMode (only those with stroke): {stroke_true_mode}\")\n",
    "    \n",
    "    # Find the minimum and maximum values from the current column\n",
    "    # in order to calculate the range\n",
    "    # Divide this range by a small number to set a new step-size for the x-axis\n",
    "    column_max = input_csv[possible_feature].max()\n",
    "    column_min = input_csv[possible_feature].min()\n",
    "    column_range = column_max - column_min\n",
    "    \n",
    "    # Divide the column range by 10 for the plot showing avg_glucose_level,\n",
    "    # otherwise the step-size would be too low and the x-axis would be unreadable.\n",
    "    # We still want to divide the range by 5 to find the step-size for the other graphs,\n",
    "    # as more x-ticks help us to more clearly see where the data lies.\n",
    "    if possible_feature == \"avg_glucose_level\":\n",
    "        plt.locator_params(nbins=column_range/10)\n",
    "    else: \n",
    "        plt.locator_params(nbins=column_range/5)\n",
    "        \n",
    "    plt.legend(labels=[\"Full Dataset\", \"Only those with stroke\"])\n",
    "    \n",
    "    plt.show()"
   ]
  },
  {
   "cell_type": "markdown",
   "metadata": {},
   "source": [
    "#### Observations:\n",
    "\n",
    "1. In the full dataset, most people appear to have an age close to 51. For those who had a stroke, most people have an age close to 79.\n",
    "2. In the the full dataset, most people appear to have an average glucose level (AGL) close to 82.71. For those who had a stroke, most people have an AGL close to 74.95. In both cases, the frequency of AGLs drop sharply after this value, though there is a slight spike in frequency for individuals with an average glucose level just over 160. \n",
    "3. In the full dataset, most people appear to have a BMI close to 27.7. For those who had a stroke, most people have a BMI close to 26.4."
   ]
  },
  {
   "cell_type": "code",
   "execution_count": null,
   "metadata": {},
   "outputs": [],
   "source": [
    "# Make a regplot for each potential numerical feature\n",
    "for possible_feature in possible_numerical_features:\n",
    "    sns.regplot(x=possible_feature, y=\"stroke\", data=input_csv, fit_reg=False, y_jitter=0.1)\n",
    "    plt.title(f\"Individuals who had a stroke based on {possible_feature}\")\n",
    "    \n",
    "    # Find the minimum and maximum values from the current column\n",
    "    # in order to calculate the range\n",
    "    # Divide this range by a small number to set a new step-size for the x-axis\n",
    "    column_max = input_csv[possible_feature].max()\n",
    "    column_min = input_csv[possible_feature].min()\n",
    "    column_range = column_max - column_min\n",
    "    \n",
    "    # Divide the column range by 10 for the plot showing avg_glucose_level,\n",
    "    # otherwise the step-size would be too low and the x-axis would be unreadable.\n",
    "    # We still want to divide the range by 5 to find the step-size for the other graphs,\n",
    "    # as more x-ticks help us to more clearly see where the data lies.\n",
    "    if possible_feature == \"avg_glucose_level\":\n",
    "        plt.locator_params(nbins=column_range/10)\n",
    "    else: \n",
    "        plt.locator_params(nbins=column_range/5)\n",
    "    \n",
    "    plt.show()"
   ]
  },
  {
   "cell_type": "markdown",
   "metadata": {},
   "source": [
    "#### Observations:\n",
    "\n",
    "1. Those who did not have a stroke could be any age, while those who did have a stroke are most heavily concentrated in the 50+ years age group. There is a smaller but still sizable number of people in the range of 40-50 years old, and an even smaller but still sizable number of people in the range of 30-40 years old. Very few people below the age of 30 had a stroke.\n",
    "2. Those who did not have a stroke could have any average glucose level (AGL) in the approximate range of 60 to 270. A smaller but still sizable number of people exceed an AGL of 270. Those who did have a stroke are concentrated in two separate ranges. The first range is from approximately 60 to approximately 120; the second range is from approximately 180 to approximately 240.  There is a noticeable gap between an AGL of about 120 to 180, where there are fewer data points.\n",
    "3. Those who did not have a stroke could have any BMI in the approximate range of 10 to 60. A smaller but still sizable number of people have a BMI exceeding 60 also did not have a strok. Very few people have a BMI exceeding 72. Those who did have a stroke are concentrated in the approximate BMI range of 20 to 40. Very few people have a BMI of less than 20. A smaller but still sizeable number of people exceed a BMI of 40, and no one has a BMI over 60."
   ]
  },
  {
   "cell_type": "markdown",
   "metadata": {},
   "source": [
    "## gender"
   ]
  },
  {
   "cell_type": "code",
   "execution_count": null,
   "metadata": {},
   "outputs": [],
   "source": [
    "# Overview of gender\n",
    "input_csv[\"gender\"].value_counts()"
   ]
  },
  {
   "cell_type": "code",
   "execution_count": null,
   "metadata": {},
   "outputs": [],
   "source": [
    "# Get the exact number of people in each gender group that had a stroke\n",
    "print(input_csv[input_csv[\"stroke\"] == 1][\"gender\"].value_counts())"
   ]
  },
  {
   "cell_type": "markdown",
   "metadata": {},
   "source": [
    "## age"
   ]
  },
  {
   "cell_type": "code",
   "execution_count": null,
   "metadata": {},
   "outputs": [],
   "source": [
    "# Overview of age\n",
    "input_csv[\"age\"].value_counts()"
   ]
  },
  {
   "cell_type": "code",
   "execution_count": null,
   "metadata": {},
   "outputs": [],
   "source": [
    "input_csv[\"age\"].max()"
   ]
  },
  {
   "cell_type": "code",
   "execution_count": null,
   "metadata": {},
   "outputs": [],
   "source": [
    "# Histogram of Age\n",
    "from matplotlib.ticker import StrMethodFormatter\n",
    "\n",
    "ax = input_csv.hist(column='age', bins=25, grid=False, figsize=(8,4), color='#86bf91', zorder=2, rwidth=0.9)\n",
    "\n",
    "ax = ax[0]\n",
    "for x in ax:\n",
    "\n",
    "    # Despine\n",
    "    x.spines['right'].set_visible(False)\n",
    "    x.spines['top'].set_visible(False)\n",
    "    x.spines['left'].set_visible(False)\n",
    "\n",
    "    # Switch off ticks\n",
    "    x.tick_params(axis=\"both\", which=\"both\", bottom=\"off\", top=\"off\", labelbottom=\"on\", left=\"off\", right=\"off\", labelleft=\"on\")\n",
    "\n",
    "    # Draw horizontal axis lines\n",
    "    vals = x.get_yticks()\n",
    "    for tick in vals:\n",
    "        x.axhline(y=tick, linestyle='dashed', alpha=0.4, color='#eeeeee', zorder=1)\n",
    "\n",
    "    # Remove title\n",
    "    x.set_title(\"\")\n",
    "\n",
    "    # Set x-axis label\n",
    "    x.set_xlabel(\"Age\", labelpad=20, weight='bold', size=12)\n",
    "\n",
    "    # Set y-axis label\n",
    "    x.set_ylabel(\"Count\", labelpad=20, weight='bold', size=12)\n",
    "\n",
    "    # Format y-axis label\n",
    "    x.yaxis.set_major_formatter(StrMethodFormatter('{x:,g}'))"
   ]
  },
  {
   "cell_type": "code",
   "execution_count": null,
   "metadata": {},
   "outputs": [],
   "source": [
    "# Density of age grouped by stroke\n",
    "plt.figure(figsize=(8,4))\n",
    "input_csv.groupby(\"stroke\").age.plot(kind='kde')\n",
    "plt.title(\"Density of age grouped by stroke\")\n",
    "\n",
    "plt.legend()\n",
    "plt.show()"
   ]
  },
  {
   "cell_type": "code",
   "execution_count": null,
   "metadata": {},
   "outputs": [],
   "source": [
    "# Density of age grouped by hypertension\n",
    "plt.figure(figsize=(8,4))\n",
    "input_csv.groupby(\"hypertension\").age.plot(kind='kde')\n",
    "plt.title(\"Density of age grouped by hypertension\")\n",
    "\n",
    "plt.legend()\n",
    "plt.show()"
   ]
  },
  {
   "cell_type": "code",
   "execution_count": null,
   "metadata": {},
   "outputs": [],
   "source": [
    "# Density of age grouped by heart_disease\n",
    "plt.figure(figsize=(8,4))\n",
    "input_csv.groupby(\"heart_disease\").age.plot(kind='kde')\n",
    "plt.title(\"Density of age grouped by heart_disease\")\n",
    "\n",
    "plt.legend()\n",
    "plt.show()"
   ]
  },
  {
   "cell_type": "markdown",
   "metadata": {},
   "source": [
    "## Categorize age"
   ]
  },
  {
   "cell_type": "code",
   "execution_count": null,
   "metadata": {},
   "outputs": [],
   "source": [
    "# Create the bins in which Data will be held\n",
    "bins = [0, 19, 29, 39, 44, 49, 54, 59, 64, 69, 74, 79, 84, 100]\n",
    "\n",
    "# Create the names for the five bins\n",
    "group_labels = [\"<20\", \"20-29\", \"30-39\", \"40-44\", \"45-49\", \"50-54\", \"55-59\", \"60-64\", \"65-69\", \"70-74\", \"75-79\", \"80-84\", \">84\"]"
   ]
  },
  {
   "cell_type": "code",
   "execution_count": null,
   "metadata": {},
   "outputs": [],
   "source": [
    "input_csv[\"age_group\"] = pd.cut(input_csv[\"age\"], bins, labels=group_labels)\n",
    "input_csv"
   ]
  },
  {
   "cell_type": "code",
   "execution_count": null,
   "metadata": {},
   "outputs": [],
   "source": [
    "# Creating a group based off of the bins\n",
    "age_group = input_csv.groupby(\"age_group\")\n",
    "age_group[[\"stroke\", \"hypertension\", \"heart_disease\"]].sum()"
   ]
  },
  {
   "cell_type": "code",
   "execution_count": null,
   "metadata": {},
   "outputs": [],
   "source": [
    "import warnings\n",
    "warnings.filterwarnings('ignore')\n",
    "\n",
    "# Visualize how many people did and did not have a stroke\n",
    "plt.figure(figsize=(20,5))\n",
    "\n",
    "plt.subplot(1,2,1)\n",
    "sns.countplot(input_csv[\"age_group\"])\n",
    "plt.title(\"Complete Dataset\")\n",
    "\n",
    "plt.subplot(1,2,2)\n",
    "sns.countplot(input_csv[input_csv[\"stroke\"] == 1][\"age_group\"])\n",
    "plt.title(\"Only those who had stroke\")\n",
    "\n",
    "plt.show()"
   ]
  },
  {
   "cell_type": "markdown",
   "metadata": {},
   "source": [
    "## hypertension"
   ]
  },
  {
   "cell_type": "code",
   "execution_count": null,
   "metadata": {
    "scrolled": true
   },
   "outputs": [],
   "source": [
    "# Overview of hypertension\n",
    "input_csv[\"hypertension\"].value_counts()"
   ]
  },
  {
   "cell_type": "code",
   "execution_count": null,
   "metadata": {},
   "outputs": [],
   "source": [
    "# Get the exact number of people in each hypertension group that had a stroke\n",
    "print(input_csv[input_csv[\"stroke\"] == 1][\"hypertension\"].value_counts())"
   ]
  },
  {
   "cell_type": "markdown",
   "metadata": {},
   "source": [
    "## heart_disease"
   ]
  },
  {
   "cell_type": "code",
   "execution_count": null,
   "metadata": {},
   "outputs": [],
   "source": [
    "# Overview of heart_disease\n",
    "input_csv[\"heart_disease\"].value_counts()"
   ]
  },
  {
   "cell_type": "code",
   "execution_count": null,
   "metadata": {},
   "outputs": [],
   "source": [
    "# Get the exact number of people in each heart_disease group that had a stroke\n",
    "print(input_csv[input_csv[\"stroke\"] == 1][\"heart_disease\"].value_counts())"
   ]
  },
  {
   "cell_type": "markdown",
   "metadata": {},
   "source": [
    "## ever_married"
   ]
  },
  {
   "cell_type": "code",
   "execution_count": null,
   "metadata": {
    "scrolled": true
   },
   "outputs": [],
   "source": [
    "# Overview of ever_married\n",
    "input_csv[\"ever_married\"].value_counts()"
   ]
  },
  {
   "cell_type": "code",
   "execution_count": null,
   "metadata": {},
   "outputs": [],
   "source": [
    "# Get the exact number of people in each ever_married group that had a stroke\n",
    "print(input_csv[input_csv[\"stroke\"] == 1][\"ever_married\"].value_counts())"
   ]
  },
  {
   "cell_type": "markdown",
   "metadata": {},
   "source": [
    "## work_type"
   ]
  },
  {
   "cell_type": "code",
   "execution_count": null,
   "metadata": {},
   "outputs": [],
   "source": [
    "# Overview of work_type\n",
    "input_csv[\"work_type\"].value_counts()"
   ]
  },
  {
   "cell_type": "code",
   "execution_count": null,
   "metadata": {},
   "outputs": [],
   "source": [
    "# Get the exact number of people in each work_type group that had a stroke\n",
    "print(input_csv[input_csv[\"stroke\"] == 1][\"work_type\"].value_counts())"
   ]
  },
  {
   "cell_type": "code",
   "execution_count": null,
   "metadata": {},
   "outputs": [],
   "source": [
    "# In the cell above, we noticed that, despite making up as much as about 14.18% of the complete dataset,\n",
    "# those whose work type is \"children\" make up only about 0.26% of those who had a stroke\n",
    "\n",
    "# As \"children\" isn't very clear, we decide to check the max age for indiviudals with this work type\n",
    "\n",
    "input_csv[input_csv[\"work_type\"] == \"children\"][\"age\"].max()"
   ]
  },
  {
   "cell_type": "markdown",
   "metadata": {},
   "source": [
    "We can observe from the cell above that the oldest person with work type \"children\" is 16 - a pretty low age. We therefore assume that a work type of \"children\" means this person is a child, and has no job."
   ]
  },
  {
   "cell_type": "markdown",
   "metadata": {},
   "source": [
    "## Residence_type"
   ]
  },
  {
   "cell_type": "code",
   "execution_count": null,
   "metadata": {},
   "outputs": [],
   "source": [
    "# Overview of Residence_type\n",
    "input_csv[\"Residence_type\"].value_counts()"
   ]
  },
  {
   "cell_type": "code",
   "execution_count": null,
   "metadata": {},
   "outputs": [],
   "source": [
    "# Get the exact number of people in each Residence_type group that had a stroke\n",
    "print(input_csv[input_csv[\"stroke\"] == 1][\"Residence_type\"].value_counts())"
   ]
  },
  {
   "cell_type": "markdown",
   "metadata": {},
   "source": [
    "## avg_glucose_level"
   ]
  },
  {
   "cell_type": "code",
   "execution_count": null,
   "metadata": {},
   "outputs": [],
   "source": [
    "# Overview of avg_glucose_level\n",
    "input_csv[\"avg_glucose_level\"].value_counts()"
   ]
  },
  {
   "cell_type": "markdown",
   "metadata": {},
   "source": [
    "## Categorize avg_glucose_level"
   ]
  },
  {
   "cell_type": "code",
   "execution_count": null,
   "metadata": {},
   "outputs": [],
   "source": [
    "# Create the bins in which Data will be held\n",
    "bins = [0, 139.99, 199.99, 300]\n",
    "\n",
    "# Create the names for the five bins\n",
    "group_labels = [\"Normal\", \"Prediabetes\", \"T2 Diabetes\"]"
   ]
  },
  {
   "cell_type": "code",
   "execution_count": null,
   "metadata": {},
   "outputs": [],
   "source": [
    "input_csv[\"glucose_group\"] = pd.cut(input_csv[\"avg_glucose_level\"], bins, labels=group_labels)\n",
    "input_csv"
   ]
  },
  {
   "cell_type": "code",
   "execution_count": null,
   "metadata": {},
   "outputs": [],
   "source": [
    "# Creating a group based off of the bins\n",
    "glucose_group = input_csv.groupby(\"glucose_group\")\n",
    "glucose_group[[\"stroke\", \"hypertension\", \"heart_disease\"]].sum()"
   ]
  },
  {
   "cell_type": "code",
   "execution_count": null,
   "metadata": {},
   "outputs": [],
   "source": [
    "# Visualize how many people did and did not have a stroke\n",
    "plt.figure(figsize=(20,5))\n",
    "\n",
    "plt.subplot(1,2,1)\n",
    "sns.countplot(input_csv[\"glucose_group\"])\n",
    "plt.title(\"Complete Dataset\")\n",
    "\n",
    "plt.subplot(1,2,2)\n",
    "sns.countplot(input_csv[input_csv[\"stroke\"] == 1][\"glucose_group\"])\n",
    "plt.title(\"Only those who had stroke\")\n",
    "\n",
    "plt.show()"
   ]
  },
  {
   "cell_type": "markdown",
   "metadata": {},
   "source": [
    "## bmi"
   ]
  },
  {
   "cell_type": "code",
   "execution_count": null,
   "metadata": {},
   "outputs": [],
   "source": [
    "# Overview of bmi\n",
    "input_csv[\"bmi\"].value_counts()"
   ]
  },
  {
   "cell_type": "code",
   "execution_count": null,
   "metadata": {},
   "outputs": [],
   "source": [
    "# How many unique values in bmi column\n",
    "input_csv[\"bmi\"].nunique()"
   ]
  },
  {
   "cell_type": "code",
   "execution_count": null,
   "metadata": {},
   "outputs": [],
   "source": [
    "# Null bmi\n",
    "print(input_csv[\"bmi\"].isnull().sum())"
   ]
  },
  {
   "cell_type": "code",
   "execution_count": null,
   "metadata": {},
   "outputs": [],
   "source": [
    "# Null bmi with and without stroke\n",
    "input_csv.loc[input_csv[\"bmi\"].isna(), \"stroke\"].value_counts()"
   ]
  },
  {
   "cell_type": "code",
   "execution_count": null,
   "metadata": {},
   "outputs": [],
   "source": [
    "# Analyze records with null bmi\n",
    "rslt_df = input_csv.loc[input_csv[\"bmi\"].isnull()]\n",
    "rslt_df"
   ]
  },
  {
   "cell_type": "code",
   "execution_count": null,
   "metadata": {},
   "outputs": [],
   "source": [
    "rslt_df2 = rslt_df.loc[input_csv[\"stroke\"] == 1]\n",
    "rslt_df2"
   ]
  },
  {
   "cell_type": "code",
   "execution_count": null,
   "metadata": {},
   "outputs": [],
   "source": [
    "rslt_df2.loc[rslt_df2[\"bmi\"].isna(), \"hypertension\"].value_counts()"
   ]
  },
  {
   "cell_type": "code",
   "execution_count": null,
   "metadata": {},
   "outputs": [],
   "source": [
    "rslt_df2.loc[rslt_df2[\"bmi\"].isna(), \"heart_disease\"].value_counts()"
   ]
  },
  {
   "cell_type": "code",
   "execution_count": null,
   "metadata": {},
   "outputs": [],
   "source": [
    "rslt_df2.loc[rslt_df2[\"bmi\"].isna(), \"glucose_group\"].value_counts()"
   ]
  },
  {
   "cell_type": "code",
   "execution_count": null,
   "metadata": {},
   "outputs": [],
   "source": [
    "# Calculate the mean and standard deviation BMI value\n",
    "bmi_mean = input_csv[\"bmi\"].mean()\n",
    "bmi_standard_deviation = input_csv[\"bmi\"].std()\n",
    "print(f\"BMI mean: {bmi_mean}\\nBMI standard deviation: {bmi_standard_deviation}\", \"\\n\")"
   ]
  },
  {
   "cell_type": "code",
   "execution_count": null,
   "metadata": {},
   "outputs": [],
   "source": [
    "# Calculate what percent of the data is 1, 2, and 3 standard deviations from the mean\n",
    "percent_of_data_1_standard_deviations_from_mean = round((len(input_csv[(input_csv[\"bmi\"] > bmi_mean + bmi_standard_deviation)\\\n",
    "                                                     | (input_csv[\"bmi\"] < bmi_mean - bmi_standard_deviation)]) / len(input_csv)) * 100, 2)\n",
    "\n",
    "percent_of_data_2_standard_deviations_from_mean = round((len(input_csv[(input_csv[\"bmi\"] > bmi_mean + (2 * bmi_standard_deviation))\\\n",
    "                                                     | (input_csv[\"bmi\"] < bmi_mean - (2 * bmi_standard_deviation))]) / len(input_csv)) * 100, 2)\n",
    "\n",
    "percent_of_data_3_standard_deviations_from_mean = round((len(input_csv[(input_csv[\"bmi\"] > bmi_mean + (3 * bmi_standard_deviation))\\\n",
    "                                                     | (input_csv[\"bmi\"] < bmi_mean - (3 * bmi_standard_deviation))]) / len(input_csv)) * 100, 2)\n",
    "\n",
    "print(f\"Percent of data 1 standard deviation from mean: {percent_of_data_1_standard_deviations_from_mean}\")\n",
    "print(f\"Percent of data 2 standard deviations from mean: {percent_of_data_2_standard_deviations_from_mean}\")\n",
    "print(f\"Percent of data 3 standard deviations from mean: {percent_of_data_3_standard_deviations_from_mean}\")"
   ]
  },
  {
   "cell_type": "markdown",
   "metadata": {},
   "source": [
    "## Working with missing bmi data\n",
    "\n",
    "### Options for dealing with missing bmi data:\n",
    "\n",
    "1. Deleting Rows\n",
    "1. Replacing With Mean/Median/Mode\n",
    "1. Assigning An Unique Category\n",
    "1. Predicting The Missing Values\n",
    "1. Using Algorithms Which Support Missing Values"
   ]
  },
  {
   "cell_type": "code",
   "execution_count": null,
   "metadata": {},
   "outputs": [],
   "source": [
    "print(f\"Mean bmi: {input_csv['bmi'].mean()}\")\n",
    "print(f\"Median bmi: {input_csv['bmi'].median()}\")\n",
    "print(f\"Mode bmi: {input_csv.mode()['bmi'][0]}\")"
   ]
  },
  {
   "cell_type": "code",
   "execution_count": null,
   "metadata": {},
   "outputs": [],
   "source": [
    "# Since the median bmi value is equal to the mode bmi value, fill NaN values with the median bmi\n",
    "input_csv[\"bmi\"].fillna(input_csv[\"bmi\"].median(), inplace=True)"
   ]
  },
  {
   "cell_type": "code",
   "execution_count": null,
   "metadata": {},
   "outputs": [],
   "source": [
    "# Confirm no NaN values in the \"bmi\" column\n",
    "input_csv.isna().sum()"
   ]
  },
  {
   "cell_type": "markdown",
   "metadata": {},
   "source": [
    "## Categorize bmi"
   ]
  },
  {
   "cell_type": "code",
   "execution_count": null,
   "metadata": {},
   "outputs": [],
   "source": [
    "# Create the bins in which Data will be held\n",
    "bins = [0, 18.5, 25, 30, 35, 40, 45, 50, 60, 100]\n",
    "\n",
    "# Create the names for the five bins\n",
    "group_labels = [\"<18.5\", \"18.5-24.9\", \"25-29.9\", \"30-34.9\", \"35-39.9\", \"40-44.9\", \"45-49.9\", \"50-59.9\", \">60\"]"
   ]
  },
  {
   "cell_type": "code",
   "execution_count": null,
   "metadata": {},
   "outputs": [],
   "source": [
    "input_csv[\"bmi_group1\"] = pd.cut(input_csv[\"bmi\"], bins, labels=group_labels)\n",
    "input_csv"
   ]
  },
  {
   "cell_type": "code",
   "execution_count": null,
   "metadata": {},
   "outputs": [],
   "source": [
    "# Create the bins in which Data will be held\n",
    "bins = [0, 18.5, 25, 30, 35, 40, 45, 50, 60, 100]\n",
    "\n",
    "# Create the names for the bins\n",
    "group_labels = [\"Underweight\", \"Normal weight\", \"Overweight\", \"Obese Class I (Moderately obese)\", \"Obese Class II (Severely obese)\", \"Obese Class III (Very severely obese)\", \"Obese Class IV (Morbidly Obese)\", \"Obese Class V (Super Obese)\", \"Obese Class VI (Hyper Obese)\"]"
   ]
  },
  {
   "cell_type": "code",
   "execution_count": null,
   "metadata": {},
   "outputs": [],
   "source": [
    "input_csv[\"bmi_group\"] = pd.cut(input_csv[\"bmi\"], bins, labels=group_labels)\n",
    "input_csv"
   ]
  },
  {
   "cell_type": "code",
   "execution_count": null,
   "metadata": {},
   "outputs": [],
   "source": [
    "# Creating a group based off of the bins\n",
    "bmi_group = input_csv.groupby(\"bmi_group\")\n",
    "bmi_group[[\"stroke\", \"hypertension\", \"heart_disease\"]].sum()"
   ]
  },
  {
   "cell_type": "code",
   "execution_count": null,
   "metadata": {},
   "outputs": [],
   "source": [
    "# Creating a group based off of the bins\n",
    "bmi_group2 = input_csv.groupby(\"bmi_group1\")\n",
    "bmi_group2[[\"stroke\", \"hypertension\", \"heart_disease\"]].sum()"
   ]
  },
  {
   "cell_type": "code",
   "execution_count": null,
   "metadata": {},
   "outputs": [],
   "source": [
    "# Creating a group based off of the bins\n",
    "bmi_group2 = input_csv.groupby(\"bmi_group\")\n",
    "bmi_group2[\"age\"].mean()"
   ]
  },
  {
   "cell_type": "code",
   "execution_count": null,
   "metadata": {},
   "outputs": [],
   "source": [
    "# Creating a group based off of the bins\n",
    "bmi_group2 = input_csv.groupby(\"bmi_group\")\n",
    "bmi_group2[\"id\"].count()"
   ]
  },
  {
   "cell_type": "code",
   "execution_count": null,
   "metadata": {},
   "outputs": [],
   "source": [
    "# Visualize how many people did and did not have a stroke\n",
    "plt.figure(figsize=(20,5))\n",
    "\n",
    "plt.subplot(1,2,1)\n",
    "sns.countplot(input_csv[\"bmi_group\"])\n",
    "plt.title(\"Complete Dataset\")\n",
    "plt.xticks(rotation=90)\n",
    "\n",
    "plt.subplot(1,2,2)\n",
    "sns.countplot(input_csv[input_csv[\"stroke\"] == 1][\"bmi_group\"])\n",
    "plt.title(\"Only those who had stroke\")\n",
    "plt.xticks(rotation=90)\n",
    "\n",
    "plt.show()"
   ]
  },
  {
   "cell_type": "markdown",
   "metadata": {},
   "source": [
    "## smoking_status"
   ]
  },
  {
   "cell_type": "code",
   "execution_count": null,
   "metadata": {},
   "outputs": [],
   "source": [
    "# Overview of smoking_status\n",
    "input_csv[\"smoking_status\"].value_counts()"
   ]
  },
  {
   "cell_type": "code",
   "execution_count": null,
   "metadata": {},
   "outputs": [],
   "source": [
    "# Get the exact number of people in each smoking group that had a stroke\n",
    "print(input_csv[input_csv[\"stroke\"] == 1][\"smoking_status\"].value_counts())"
   ]
  },
  {
   "cell_type": "code",
   "execution_count": null,
   "metadata": {},
   "outputs": [],
   "source": [
    "# Null smoking_status\n",
    "\n",
    "print(input_csv[\"smoking_status\"].isnull().sum())"
   ]
  },
  {
   "cell_type": "code",
   "execution_count": null,
   "metadata": {},
   "outputs": [],
   "source": [
    "# Visualize how many people did and did not have a stroke\n",
    "plt.figure(figsize=(20,5))\n",
    "\n",
    "plt.subplot(1,2,1)\n",
    "sns.countplot(input_csv[\"smoking_status\"])\n",
    "plt.title(\"Complete Dataset\")\n",
    "plt.xticks(rotation=90)\n",
    "\n",
    "plt.subplot(1,2,2)\n",
    "sns.countplot(input_csv[input_csv[\"stroke\"] == 1][\"smoking_status\"])\n",
    "plt.title(\"Only those who had stroke\")\n",
    "plt.xticks(rotation=90)\n",
    "\n",
    "plt.show()"
   ]
  },
  {
   "cell_type": "markdown",
   "metadata": {},
   "source": [
    "## Missing smoking_status data\n",
    "\n",
    "### Choosing the right Encoding method - Label vs OneHot Encoder\n",
    "We will not fill in these NaNs and use use OneHot Encoder once we get to the Machine Learning notebook"
   ]
  },
  {
   "cell_type": "code",
   "execution_count": null,
   "metadata": {},
   "outputs": [],
   "source": [
    "# Get the exact number of people in each group of the entire dataset\n",
    "print(input_csv[\"smoking_status\"].value_counts(), \"\\n\")\n",
    "\n",
    "# Get the exact number of people in each group,\n",
    "# after filtering to just those who had a stroke\n",
    "print(input_csv[input_csv[\"stroke\"] == 1][\"smoking_status\"].value_counts())"
   ]
  },
  {
   "cell_type": "markdown",
   "metadata": {},
   "source": [
    "## stroke"
   ]
  },
  {
   "cell_type": "code",
   "execution_count": null,
   "metadata": {},
   "outputs": [],
   "source": [
    "# Overview of stroke\n",
    "input_csv[\"stroke\"].value_counts()"
   ]
  },
  {
   "cell_type": "code",
   "execution_count": null,
   "metadata": {},
   "outputs": [],
   "source": [
    "input_csv"
   ]
  },
  {
   "cell_type": "markdown",
   "metadata": {},
   "source": [
    "## Model Building\n",
    "\n",
    "### Feature selection\n",
    "\n",
    "From our analysis, we determine that our features should be:\n",
    "\n",
    "#### Categorical:\n",
    "1. hypertension\n",
    "2. heart_disease\n",
    "3. ever_married\n",
    "4. work_type\n",
    "5. smoking status\n",
    "6. gender\n",
    "7. residence_type\n",
    "\n",
    "#### Numerical:\n",
    "1. age\n",
    "2. average glucose level\n",
    "3. bmi"
   ]
  },
  {
   "cell_type": "markdown",
   "metadata": {},
   "source": [
    "### Replace string data with numeric"
   ]
  },
  {
   "cell_type": "code",
   "execution_count": null,
   "metadata": {},
   "outputs": [],
   "source": [
    "stroke_df = input_csv.copy(deep=True)"
   ]
  },
  {
   "cell_type": "code",
   "execution_count": null,
   "metadata": {},
   "outputs": [],
   "source": [
    "Gender = {\"Other\":2,\"Male\":1, \"Female\":0}\n",
    "Married = {\"Yes\":1, \"No\":0}\n",
    "# Work_Type = {\"Private\":0, \"Self-employed\":1, \"children\":2, \"Govt_job\":3,\"Never_worked\":4}\n",
    "Residence = {\"Urban\":0, \"Rural\":1}\n",
    "# Smoking = {\"never smoked\":0, \"formerly smoked\":1, \"smokes\":2, \"unknown\":3}\n",
    "# BMI = {\"Normal weight\":0, \"unknown\":1, \"Underweight\":2, \"Overweight\":3, \"Obese Class I (Moderately obese)\":4,\n",
    "#      \"Obese Class II (Severely obese)\":5, \"Obese Class III (Very severely obese)\":6, \"Obese Class IV (Morbidly Obese)\":7,\n",
    "#      \"Obese Class V (Super Obese)\":8, \"Obese Class VI (Hyper Obese)\":9}\n",
    "# Glucose = {\"Normal\":0, \"Prediabetes\":1, \"T2 Diabetes\":2}"
   ]
  },
  {
   "cell_type": "code",
   "execution_count": null,
   "metadata": {},
   "outputs": [],
   "source": [
    "stroke_df = stroke_df.replace({\"gender\":Gender, \n",
    "                               \"ever_married\":Married, \n",
    "                               \"Residence_type\":Residence})"
   ]
  },
  {
   "cell_type": "code",
   "execution_count": null,
   "metadata": {},
   "outputs": [],
   "source": [
    "stroke_df"
   ]
  },
  {
   "cell_type": "code",
   "execution_count": null,
   "metadata": {},
   "outputs": [],
   "source": [
    "# We don't want to work with unique identifiers so we will drop the id column\n",
    "\n",
    "stroke_clean = stroke_df.drop([\"id\"], axis=1)\n",
    "stroke_clean.head()"
   ]
  },
  {
   "cell_type": "code",
   "execution_count": null,
   "metadata": {},
   "outputs": [],
   "source": [
    "# Make new dataframe only including relevant features\n",
    "stroke_data = pd.DataFrame()\n",
    "\n",
    "# Add categorical features to dataframe\n",
    "stroke_data[\"hypertension\"] = stroke_clean[\"hypertension\"]\n",
    "stroke_data[\"heart_disease\"] = stroke_clean[\"heart_disease\"]\n",
    "stroke_data[\"ever_married\"] = stroke_clean[\"ever_married\"]\n",
    "stroke_data[\"work_type\"] = stroke_clean[\"work_type\"]\n",
    "stroke_data[\"smoking_status\"] = stroke_clean[\"smoking_status\"]\n",
    "stroke_data[\"gender\"] = stroke_clean[\"gender\"]\n",
    "stroke_data[\"Residence_type\"] = stroke_clean[\"Residence_type\"]\n",
    "\n",
    "# Add numerical features to dataframe\n",
    "stroke_data[\"age\"] = stroke_clean[\"age\"]\n",
    "stroke_data[\"average_glucose_level\"] = stroke_clean[\"avg_glucose_level\"]\n",
    "stroke_data[\"bmi\"] = stroke_clean[\"bmi\"]\n",
    "\n",
    "# Add label to dataframe\n",
    "stroke_data[\"stroke\"] = stroke_clean[\"stroke\"]\n",
    "\n",
    "# Preview our new dataframe\n",
    "stroke_data\n"
   ]
  },
  {
   "cell_type": "code",
   "execution_count": null,
   "metadata": {},
   "outputs": [],
   "source": [
    "# Our initial analysis is complete and we'll export this dataframe as a csv file, and perform the Machine Learning in a new notebook.\n",
    "import os\n",
    "\n",
    "# Export final DataFrame as csv\n",
    "stroke_data.to_csv(\"data/stroke_ML_dataset.csv\", index=False, header=True)"
   ]
  },
  {
   "cell_type": "code",
   "execution_count": null,
   "metadata": {},
   "outputs": [],
   "source": []
  }
 ],
 "metadata": {
  "kernelspec": {
   "display_name": "Python 3",
   "language": "python",
   "name": "python3"
  },
  "language_info": {
   "codemirror_mode": {
    "name": "ipython",
    "version": 3
   },
   "file_extension": ".py",
   "mimetype": "text/x-python",
   "name": "python",
   "nbconvert_exporter": "python",
   "pygments_lexer": "ipython3",
   "version": "3.6.12"
  }
 },
 "nbformat": 4,
 "nbformat_minor": 4
}
