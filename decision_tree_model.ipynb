{
 "cells": [
  {
   "cell_type": "markdown",
   "metadata": {},
   "source": [
    "# Decision Tree Model"
   ]
  },
  {
   "cell_type": "code",
   "execution_count": null,
   "metadata": {},
   "outputs": [],
   "source": [
    "# import required libraries\n",
    "from sklearn import tree\n",
    "import pandas as pd\n",
    "import os"
   ]
  },
  {
   "cell_type": "code",
   "execution_count": null,
   "metadata": {},
   "outputs": [],
   "source": [
    "# load stroke positive data subset\n",
    "stroke_positive_subset = pd.read_csv(\"data/combined_subsets.csv\")\n",
    "stroke_positive_subset.head()"
   ]
  },
  {
   "cell_type": "code",
   "execution_count": null,
   "metadata": {},
   "outputs": [],
   "source": [
    "# split dataset in features and target variables\n",
    "\n",
    "# target\n",
    "target = stroke_positive_subset[\"stroke\"]\n",
    "target_names = [\"no\", \"yes\"]\n",
    "\n",
    "# features\n",
    "stroke_positive_data = stroke_positive_subset.drop([\"stroke\"], axis=1)\n",
    "feature_names = stroke_positive_subset.columns\n",
    "\n",
    "stroke_positive_data.head()"
   ]
  },
  {
   "cell_type": "code",
   "execution_count": null,
   "metadata": {},
   "outputs": [],
   "source": [
    "# split dataset into training set and test set\n",
    "from sklearn.model_selection import train_test_split\n",
    "X_train, X_test, y_train, y_test = train_test_split(stroke_positive_data, target, random_state=42)"
   ]
  },
  {
   "cell_type": "code",
   "execution_count": null,
   "metadata": {},
   "outputs": [],
   "source": [
    "# create Decision Tree Classifier object\n",
    "clf = tree.DecisionTreeClassifier()\n",
    "\n",
    "# train the Decision Tree Classifier\n",
    "clf = clf.fit(X_train, y_train)\n",
    "\n",
    "train_score = clf.score(X_train, y_train)\n",
    "test_score = clf.score(X_test, y_test)"
   ]
  },
  {
   "cell_type": "code",
   "execution_count": null,
   "metadata": {},
   "outputs": [],
   "source": [
    "print(f\"Accuracy using the Decision Tree Model for training: {train_score}\")\n",
    "print(f\"Accuracy using the Decision Tree Model for testing: {test_score}\")"
   ]
  },
  {
   "cell_type": "markdown",
   "metadata": {},
   "source": [
    "### Used *Entropy* Criterion"
   ]
  },
  {
   "cell_type": "code",
   "execution_count": null,
   "metadata": {},
   "outputs": [],
   "source": [
    "# create Decision Tree Classifier object with entropy\n",
    "clf = tree.DecisionTreeClassifier(criterion=\"entropy\")\n",
    "\n",
    "# train the Decision Tree Classifier\n",
    "clf = clf.fit(X_train, y_train)\n",
    "\n",
    "entropy_train_score = train_score = clf.score(X_train, y_train)\n",
    "entropy_test_score = clf.score(X_test, y_test)\n",
    "\n",
    "print(f\"Accuracy using the Decision Tree Model with entropy criterion for training: {entropy_train_score}\")\n",
    "print(f\"Accuracy using the Decision Tree Model with entropy criterion for testing: {entropy_test_score}\")"
   ]
  },
  {
   "cell_type": "markdown",
   "metadata": {},
   "source": [
    "### Used *Entropy* Criterion with *Best* Splitter"
   ]
  },
  {
   "cell_type": "code",
   "execution_count": null,
   "metadata": {},
   "outputs": [],
   "source": [
    "# create Decision Tree Classifier object with entropy\n",
    "clf = tree.DecisionTreeClassifier(criterion=\"entropy\", splitter=\"best\")\n",
    "\n",
    "# train the Decision Tree Classifier\n",
    "clf = clf.fit(X_train, y_train)\n",
    "\n",
    "entropy_best_score = clf.score(X_test, y_test)\n",
    "\n",
    "print(f\"Accuracy using the Decision Tree Model with entropy criterion and best split: {entropy_best_score}\")"
   ]
  },
  {
   "cell_type": "markdown",
   "metadata": {},
   "source": [
    "### Used *Entropy* Criterion with *Random* Splitter"
   ]
  },
  {
   "cell_type": "code",
   "execution_count": null,
   "metadata": {},
   "outputs": [],
   "source": [
    "# create Decision Tree Classifier object with entropy\n",
    "clf = tree.DecisionTreeClassifier(criterion=\"entropy\", splitter=\"random\")\n",
    "\n",
    "# train the Decision Tree Classifier\n",
    "clf = clf.fit(X_train, y_train)\n",
    "\n",
    "entropy_random_score = clf.score(X_test, y_test)\n",
    "\n",
    "print(f\"Accuracy using the Decision Tree Model with entropy criterion and random split: {entropy_random_score}\")"
   ]
  },
  {
   "cell_type": "markdown",
   "metadata": {},
   "source": [
    "### Used *Entropy* Criterion with *Max Depth*"
   ]
  },
  {
   "cell_type": "code",
   "execution_count": null,
   "metadata": {},
   "outputs": [],
   "source": [
    "# create Decision Tree Classifier object with entropy\n",
    "clf = tree.DecisionTreeClassifier(criterion=\"entropy\", max_depth=3)\n",
    "\n",
    "# train the Decision Tree Classifier\n",
    "clf = clf.fit(X_train, y_train)\n",
    "\n",
    "entropy_max_depth3_score = clf.score(X_test, y_test)\n",
    "\n",
    "print(f\"Accuracy using the Decision Tree Model with entropy criterion and max depth of 3: {entropy_max_depth3_score}\")"
   ]
  },
  {
   "cell_type": "markdown",
   "metadata": {},
   "source": [
    "### Used *Gini* Criterion"
   ]
  },
  {
   "cell_type": "code",
   "execution_count": null,
   "metadata": {},
   "outputs": [],
   "source": [
    "# create Decision Tree Classifier object with gini\n",
    "clf = tree.DecisionTreeClassifier(criterion=\"gini\")\n",
    "\n",
    "# train the Decision Tree Classifier\n",
    "clf = clf.fit(X_train, y_train)\n",
    "\n",
    "gini_score = clf.score(X_test, y_test)\n",
    "\n",
    "print(f\"Accuracy using the Decision Tree Model with gini criterion: {gini_score}\")"
   ]
  },
  {
   "cell_type": "markdown",
   "metadata": {},
   "source": [
    "### Used *Gini* Criterion with *Best* Splitter"
   ]
  },
  {
   "cell_type": "code",
   "execution_count": null,
   "metadata": {},
   "outputs": [],
   "source": [
    "# create Decision Tree Classifier object with gini and best splitter\n",
    "clf = tree.DecisionTreeClassifier(criterion=\"gini\", splitter=\"best\")\n",
    "\n",
    "# train the Decision Tree Classifier\n",
    "clf = clf.fit(X_train, y_train)\n",
    "\n",
    "gini_best_score = clf.score(X_test, y_test)\n",
    "\n",
    "print(f\"Accuracy using the Decision Tree Model with gini criterion and best split: {gini_best_score}\")"
   ]
  },
  {
   "cell_type": "markdown",
   "metadata": {},
   "source": [
    "### Used *Gini* Criterion with *Random* Splitter"
   ]
  },
  {
   "cell_type": "code",
   "execution_count": null,
   "metadata": {},
   "outputs": [],
   "source": [
    "# create Decision Tree Classifier object with gini and random splitter\n",
    "clf = tree.DecisionTreeClassifier(criterion=\"gini\", splitter=\"random\")\n",
    "\n",
    "# train the Decision Tree Classifier\n",
    "clf = clf.fit(X_train, y_train)\n",
    "\n",
    "gini_random_score = clf.score(X_test, y_test)\n",
    "\n",
    "print(f\"Accuracy using the Decision Tree Model with gini criterion and random split: {gini_random_score}\")"
   ]
  },
  {
   "cell_type": "markdown",
   "metadata": {},
   "source": [
    "### Used *Gini* Criterion with *Max Depth*"
   ]
  },
  {
   "cell_type": "code",
   "execution_count": null,
   "metadata": {},
   "outputs": [],
   "source": [
    "# create Decision Tree Classifier object with gini and max depth of 3\n",
    "clf = tree.DecisionTreeClassifier(criterion=\"gini\", max_depth=3)\n",
    "\n",
    "# train the Decision Tree Classifier\n",
    "clf = clf.fit(X_train, y_train)\n",
    "\n",
    "gini_max_depth3_score = clf.score(X_test, y_test)\n",
    "\n",
    "print(f\"Accuracy using the Decision Tree Model with gini criterion and max depth of 3: {gini_max_depth3_score}\")"
   ]
  },
  {
   "cell_type": "code",
   "execution_count": null,
   "metadata": {},
   "outputs": [],
   "source": []
  }
 ],
 "metadata": {
  "kernelspec": {
   "display_name": "Python 3",
   "language": "python",
   "name": "python3"
  },
  "language_info": {
   "codemirror_mode": {
    "name": "ipython",
    "version": 3
   },
   "file_extension": ".py",
   "mimetype": "text/x-python",
   "name": "python",
   "nbconvert_exporter": "python",
   "pygments_lexer": "ipython3",
   "version": "3.6.12"
  }
 },
 "nbformat": 4,
 "nbformat_minor": 4
}
